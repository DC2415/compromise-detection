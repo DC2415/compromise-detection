{
 "cells": [
  {
   "cell_type": "markdown",
   "metadata": {
    "id": "kD2-UVLHYSfR"
   },
   "source": [
    "## Compromise Detection System"
   ]
  },
  {
   "cell_type": "markdown",
   "metadata": {
    "id": "Rz8-DrdNY1j0"
   },
   "source": [
    "## Problem Statement\n",
    "\n",
    "The exponential growth of network traffic has led to an increase in network anomalies, such as cyber attacks, network failures, and hardware malfunctions. Compromise detection is a critical task for maintaining the security and stability of computer networks as well as indetifying anamolies. The objective of our project is  helps to understand how K-Means can be used for Compromise detection."
   ]
  },
  {
   "cell_type": "markdown",
   "metadata": {},
   "source": [
    "**Importing Libraries**"
   ]
  },
  {
   "cell_type": "code",
   "execution_count": 2,
   "metadata": {},
   "outputs": [
    {
     "name": "stdout",
     "output_type": "stream",
     "text": [
      "time: 0 ns (started: 2024-05-07 19:48:25 +05:30)\n"
     ]
    }
   ],
   "source": [
    "import numpy as np\n",
    "import matplotlib.pyplot as plt\n",
    "import pandas as pd\n",
    "import os\n",
    "import itertools\n",
    "from scipy.spatial.distance import cdist, pdist\n",
    "from sklearn.metrics.pairwise import rbf_kernel\n",
    "from sklearn.model_selection import train_test_split\n",
    "from sklearn.metrics.cluster import contingency_matrix\n",
    "from sklearn.decomposition import PCA\n",
    "from sklearn.cluster import SpectralClustering, KMeans, kmeans_plusplus\n",
    "from sklearn.neighbors import NearestNeighbors\n",
    "from sklearn import preprocessing\n",
    "\n",
    "plt.rcParams['figure.figsize'] = [10, 6]\n",
    "\n",
    "%load_ext autotime"
   ]
  },
  {
   "cell_type": "markdown",
   "metadata": {},
   "source": [
    "**Utility Functions**"
   ]
  },
  {
   "cell_type": "code",
   "execution_count": 3,
   "metadata": {},
   "outputs": [
    {
     "name": "stdout",
     "output_type": "stream",
     "text": [
      "time: 0 ns (started: 2024-05-07 19:48:27 +05:30)\n"
     ]
    }
   ],
   "source": [
    "def nth_max(X, n):\n",
    "    return np.partition(X.flatten(), -n)[-n]"
   ]
  },
  {
   "cell_type": "code",
   "execution_count": 4,
   "metadata": {},
   "outputs": [
    {
     "name": "stdout",
     "output_type": "stream",
     "text": [
      "time: 0 ns (started: 2024-05-07 19:48:28 +05:30)\n"
     ]
    }
   ],
   "source": [
    "def np_value_counts(ndarray):\n",
    "    unique, counts = np.unique(ndarray, return_counts=True)\n",
    "    return np.asarray((unique, counts)).T"
   ]
  },
  {
   "cell_type": "markdown",
   "metadata": {
    "id": "NFZGooFjYEXF"
   },
   "source": [
    "## 1. Download the Datset\n",
    "\n",
    "For this Project, we will use the ”KDD Cup 1999” dataset, which is a widely used benchmark dataset for  Compromise detection. The data is available at the following [link](https://kdd.ics.uci.edu/databases/kddcup99/kddcup99.html). "
   ]
  },
  {
   "cell_type": "code",
   "execution_count": 5,
   "metadata": {},
   "outputs": [
    {
     "name": "stdout",
     "output_type": "stream",
     "text": [
      "time: 16 ms (started: 2024-05-07 19:48:30 +05:30)\n"
     ]
    }
   ],
   "source": [
    "with open('data/kddcup.names') as file:\n",
    "    lines = [line.rstrip() for line in file]\n",
    "columns = [line.split(\":\")[0] for line in lines[1:]]\n",
    "columns.append('label')"
   ]
  },
  {
   "cell_type": "code",
   "execution_count": 6,
   "metadata": {},
   "outputs": [
    {
     "data": {
      "text/plain": [
       "True"
      ]
     },
     "execution_count": 6,
     "metadata": {},
     "output_type": "execute_result"
    },
    {
     "name": "stdout",
     "output_type": "stream",
     "text": [
      "time: 16 ms (started: 2024-05-07 19:48:31 +05:30)\n"
     ]
    }
   ],
   "source": [
    "presaved_files = os.path.isfile('train.gz') and os.path.isfile('train10.gz') and os.path.isfile('test.gz')\n",
    "presaved_files"
   ]
  },
  {
   "cell_type": "code",
   "execution_count": 7,
   "metadata": {
    "id": "USIGK0oTZaF6"
   },
   "outputs": [
    {
     "name": "stdout",
     "output_type": "stream",
     "text": [
      "time: 56.5 s (started: 2024-05-07 19:48:33 +05:30)\n"
     ]
    }
   ],
   "source": [
    "if presaved_files:\n",
    "    train = pd.read_csv('train.gz', compression='gzip')\n",
    "    train10 = pd.read_csv('train10.gz', compression='gzip')\n",
    "    test = pd.read_csv('test.gz', compression='gzip')"
   ]
  },
  {
   "cell_type": "code",
   "execution_count": 8,
   "metadata": {
    "id": "USIGK0oTZaF6"
   },
   "outputs": [
    {
     "data": {
      "text/html": [
       "<div>\n",
       "<style scoped>\n",
       "    .dataframe tbody tr th:only-of-type {\n",
       "        vertical-align: middle;\n",
       "    }\n",
       "\n",
       "    .dataframe tbody tr th {\n",
       "        vertical-align: top;\n",
       "    }\n",
       "\n",
       "    .dataframe thead th {\n",
       "        text-align: right;\n",
       "    }\n",
       "</style>\n",
       "<table border=\"1\" class=\"dataframe\">\n",
       "  <thead>\n",
       "    <tr style=\"text-align: right;\">\n",
       "      <th></th>\n",
       "      <th>duration</th>\n",
       "      <th>src_bytes</th>\n",
       "      <th>dst_bytes</th>\n",
       "      <th>land</th>\n",
       "      <th>wrong_fragment</th>\n",
       "      <th>urgent</th>\n",
       "      <th>hot</th>\n",
       "      <th>num_failed_logins</th>\n",
       "      <th>logged_in</th>\n",
       "      <th>num_compromised</th>\n",
       "      <th>...</th>\n",
       "      <th>flag_REJ</th>\n",
       "      <th>flag_RSTO</th>\n",
       "      <th>flag_RSTOS0</th>\n",
       "      <th>flag_RSTR</th>\n",
       "      <th>flag_S0</th>\n",
       "      <th>flag_S1</th>\n",
       "      <th>flag_S2</th>\n",
       "      <th>flag_S3</th>\n",
       "      <th>flag_SF</th>\n",
       "      <th>flag_SH</th>\n",
       "    </tr>\n",
       "  </thead>\n",
       "  <tbody>\n",
       "    <tr>\n",
       "      <th>0</th>\n",
       "      <td>0</td>\n",
       "      <td>215</td>\n",
       "      <td>45076</td>\n",
       "      <td>0</td>\n",
       "      <td>0</td>\n",
       "      <td>0</td>\n",
       "      <td>0</td>\n",
       "      <td>0</td>\n",
       "      <td>1</td>\n",
       "      <td>0</td>\n",
       "      <td>...</td>\n",
       "      <td>False</td>\n",
       "      <td>False</td>\n",
       "      <td>False</td>\n",
       "      <td>False</td>\n",
       "      <td>False</td>\n",
       "      <td>False</td>\n",
       "      <td>False</td>\n",
       "      <td>False</td>\n",
       "      <td>True</td>\n",
       "      <td>False</td>\n",
       "    </tr>\n",
       "    <tr>\n",
       "      <th>1</th>\n",
       "      <td>0</td>\n",
       "      <td>162</td>\n",
       "      <td>4528</td>\n",
       "      <td>0</td>\n",
       "      <td>0</td>\n",
       "      <td>0</td>\n",
       "      <td>0</td>\n",
       "      <td>0</td>\n",
       "      <td>1</td>\n",
       "      <td>0</td>\n",
       "      <td>...</td>\n",
       "      <td>False</td>\n",
       "      <td>False</td>\n",
       "      <td>False</td>\n",
       "      <td>False</td>\n",
       "      <td>False</td>\n",
       "      <td>False</td>\n",
       "      <td>False</td>\n",
       "      <td>False</td>\n",
       "      <td>True</td>\n",
       "      <td>False</td>\n",
       "    </tr>\n",
       "    <tr>\n",
       "      <th>2</th>\n",
       "      <td>0</td>\n",
       "      <td>236</td>\n",
       "      <td>1228</td>\n",
       "      <td>0</td>\n",
       "      <td>0</td>\n",
       "      <td>0</td>\n",
       "      <td>0</td>\n",
       "      <td>0</td>\n",
       "      <td>1</td>\n",
       "      <td>0</td>\n",
       "      <td>...</td>\n",
       "      <td>False</td>\n",
       "      <td>False</td>\n",
       "      <td>False</td>\n",
       "      <td>False</td>\n",
       "      <td>False</td>\n",
       "      <td>False</td>\n",
       "      <td>False</td>\n",
       "      <td>False</td>\n",
       "      <td>True</td>\n",
       "      <td>False</td>\n",
       "    </tr>\n",
       "    <tr>\n",
       "      <th>3</th>\n",
       "      <td>0</td>\n",
       "      <td>233</td>\n",
       "      <td>2032</td>\n",
       "      <td>0</td>\n",
       "      <td>0</td>\n",
       "      <td>0</td>\n",
       "      <td>0</td>\n",
       "      <td>0</td>\n",
       "      <td>1</td>\n",
       "      <td>0</td>\n",
       "      <td>...</td>\n",
       "      <td>False</td>\n",
       "      <td>False</td>\n",
       "      <td>False</td>\n",
       "      <td>False</td>\n",
       "      <td>False</td>\n",
       "      <td>False</td>\n",
       "      <td>False</td>\n",
       "      <td>False</td>\n",
       "      <td>True</td>\n",
       "      <td>False</td>\n",
       "    </tr>\n",
       "    <tr>\n",
       "      <th>4</th>\n",
       "      <td>0</td>\n",
       "      <td>239</td>\n",
       "      <td>486</td>\n",
       "      <td>0</td>\n",
       "      <td>0</td>\n",
       "      <td>0</td>\n",
       "      <td>0</td>\n",
       "      <td>0</td>\n",
       "      <td>1</td>\n",
       "      <td>0</td>\n",
       "      <td>...</td>\n",
       "      <td>False</td>\n",
       "      <td>False</td>\n",
       "      <td>False</td>\n",
       "      <td>False</td>\n",
       "      <td>False</td>\n",
       "      <td>False</td>\n",
       "      <td>False</td>\n",
       "      <td>False</td>\n",
       "      <td>True</td>\n",
       "      <td>False</td>\n",
       "    </tr>\n",
       "    <tr>\n",
       "      <th>...</th>\n",
       "      <td>...</td>\n",
       "      <td>...</td>\n",
       "      <td>...</td>\n",
       "      <td>...</td>\n",
       "      <td>...</td>\n",
       "      <td>...</td>\n",
       "      <td>...</td>\n",
       "      <td>...</td>\n",
       "      <td>...</td>\n",
       "      <td>...</td>\n",
       "      <td>...</td>\n",
       "      <td>...</td>\n",
       "      <td>...</td>\n",
       "      <td>...</td>\n",
       "      <td>...</td>\n",
       "      <td>...</td>\n",
       "      <td>...</td>\n",
       "      <td>...</td>\n",
       "      <td>...</td>\n",
       "      <td>...</td>\n",
       "      <td>...</td>\n",
       "    </tr>\n",
       "    <tr>\n",
       "      <th>4898426</th>\n",
       "      <td>0</td>\n",
       "      <td>212</td>\n",
       "      <td>2288</td>\n",
       "      <td>0</td>\n",
       "      <td>0</td>\n",
       "      <td>0</td>\n",
       "      <td>0</td>\n",
       "      <td>0</td>\n",
       "      <td>1</td>\n",
       "      <td>0</td>\n",
       "      <td>...</td>\n",
       "      <td>False</td>\n",
       "      <td>False</td>\n",
       "      <td>False</td>\n",
       "      <td>False</td>\n",
       "      <td>False</td>\n",
       "      <td>False</td>\n",
       "      <td>False</td>\n",
       "      <td>False</td>\n",
       "      <td>True</td>\n",
       "      <td>False</td>\n",
       "    </tr>\n",
       "    <tr>\n",
       "      <th>4898427</th>\n",
       "      <td>0</td>\n",
       "      <td>219</td>\n",
       "      <td>236</td>\n",
       "      <td>0</td>\n",
       "      <td>0</td>\n",
       "      <td>0</td>\n",
       "      <td>0</td>\n",
       "      <td>0</td>\n",
       "      <td>1</td>\n",
       "      <td>0</td>\n",
       "      <td>...</td>\n",
       "      <td>False</td>\n",
       "      <td>False</td>\n",
       "      <td>False</td>\n",
       "      <td>False</td>\n",
       "      <td>False</td>\n",
       "      <td>False</td>\n",
       "      <td>False</td>\n",
       "      <td>False</td>\n",
       "      <td>True</td>\n",
       "      <td>False</td>\n",
       "    </tr>\n",
       "    <tr>\n",
       "      <th>4898428</th>\n",
       "      <td>0</td>\n",
       "      <td>218</td>\n",
       "      <td>3610</td>\n",
       "      <td>0</td>\n",
       "      <td>0</td>\n",
       "      <td>0</td>\n",
       "      <td>0</td>\n",
       "      <td>0</td>\n",
       "      <td>1</td>\n",
       "      <td>0</td>\n",
       "      <td>...</td>\n",
       "      <td>False</td>\n",
       "      <td>False</td>\n",
       "      <td>False</td>\n",
       "      <td>False</td>\n",
       "      <td>False</td>\n",
       "      <td>False</td>\n",
       "      <td>False</td>\n",
       "      <td>False</td>\n",
       "      <td>True</td>\n",
       "      <td>False</td>\n",
       "    </tr>\n",
       "    <tr>\n",
       "      <th>4898429</th>\n",
       "      <td>0</td>\n",
       "      <td>219</td>\n",
       "      <td>1234</td>\n",
       "      <td>0</td>\n",
       "      <td>0</td>\n",
       "      <td>0</td>\n",
       "      <td>0</td>\n",
       "      <td>0</td>\n",
       "      <td>1</td>\n",
       "      <td>0</td>\n",
       "      <td>...</td>\n",
       "      <td>False</td>\n",
       "      <td>False</td>\n",
       "      <td>False</td>\n",
       "      <td>False</td>\n",
       "      <td>False</td>\n",
       "      <td>False</td>\n",
       "      <td>False</td>\n",
       "      <td>False</td>\n",
       "      <td>True</td>\n",
       "      <td>False</td>\n",
       "    </tr>\n",
       "    <tr>\n",
       "      <th>4898430</th>\n",
       "      <td>0</td>\n",
       "      <td>219</td>\n",
       "      <td>1098</td>\n",
       "      <td>0</td>\n",
       "      <td>0</td>\n",
       "      <td>0</td>\n",
       "      <td>0</td>\n",
       "      <td>0</td>\n",
       "      <td>1</td>\n",
       "      <td>0</td>\n",
       "      <td>...</td>\n",
       "      <td>False</td>\n",
       "      <td>False</td>\n",
       "      <td>False</td>\n",
       "      <td>False</td>\n",
       "      <td>False</td>\n",
       "      <td>False</td>\n",
       "      <td>False</td>\n",
       "      <td>False</td>\n",
       "      <td>True</td>\n",
       "      <td>False</td>\n",
       "    </tr>\n",
       "  </tbody>\n",
       "</table>\n",
       "<p>4898431 rows × 124 columns</p>\n",
       "</div>"
      ],
      "text/plain": [
       "         duration  src_bytes  dst_bytes  land  wrong_fragment  urgent  hot  \\\n",
       "0               0        215      45076     0               0       0    0   \n",
       "1               0        162       4528     0               0       0    0   \n",
       "2               0        236       1228     0               0       0    0   \n",
       "3               0        233       2032     0               0       0    0   \n",
       "4               0        239        486     0               0       0    0   \n",
       "...           ...        ...        ...   ...             ...     ...  ...   \n",
       "4898426         0        212       2288     0               0       0    0   \n",
       "4898427         0        219        236     0               0       0    0   \n",
       "4898428         0        218       3610     0               0       0    0   \n",
       "4898429         0        219       1234     0               0       0    0   \n",
       "4898430         0        219       1098     0               0       0    0   \n",
       "\n",
       "         num_failed_logins  logged_in  num_compromised  ...  flag_REJ  \\\n",
       "0                        0          1                0  ...     False   \n",
       "1                        0          1                0  ...     False   \n",
       "2                        0          1                0  ...     False   \n",
       "3                        0          1                0  ...     False   \n",
       "4                        0          1                0  ...     False   \n",
       "...                    ...        ...              ...  ...       ...   \n",
       "4898426                  0          1                0  ...     False   \n",
       "4898427                  0          1                0  ...     False   \n",
       "4898428                  0          1                0  ...     False   \n",
       "4898429                  0          1                0  ...     False   \n",
       "4898430                  0          1                0  ...     False   \n",
       "\n",
       "         flag_RSTO  flag_RSTOS0  flag_RSTR  flag_S0  flag_S1  flag_S2  \\\n",
       "0            False        False      False    False    False    False   \n",
       "1            False        False      False    False    False    False   \n",
       "2            False        False      False    False    False    False   \n",
       "3            False        False      False    False    False    False   \n",
       "4            False        False      False    False    False    False   \n",
       "...            ...          ...        ...      ...      ...      ...   \n",
       "4898426      False        False      False    False    False    False   \n",
       "4898427      False        False      False    False    False    False   \n",
       "4898428      False        False      False    False    False    False   \n",
       "4898429      False        False      False    False    False    False   \n",
       "4898430      False        False      False    False    False    False   \n",
       "\n",
       "         flag_S3  flag_SF  flag_SH  \n",
       "0          False     True    False  \n",
       "1          False     True    False  \n",
       "2          False     True    False  \n",
       "3          False     True    False  \n",
       "4          False     True    False  \n",
       "...          ...      ...      ...  \n",
       "4898426    False     True    False  \n",
       "4898427    False     True    False  \n",
       "4898428    False     True    False  \n",
       "4898429    False     True    False  \n",
       "4898430    False     True    False  \n",
       "\n",
       "[4898431 rows x 124 columns]"
      ]
     },
     "execution_count": 8,
     "metadata": {},
     "output_type": "execute_result"
    },
    {
     "name": "stdout",
     "output_type": "stream",
     "text": [
      "time: 516 ms (started: 2024-05-07 19:49:37 +05:30)\n"
     ]
    }
   ],
   "source": [
    "if not presaved_files:\n",
    "    train = pd.read_csv('data/kddcup.data.gz', compression='gzip', names=columns)\n",
    "train"
   ]
  },
  {
   "cell_type": "code",
   "execution_count": 9,
   "metadata": {},
   "outputs": [
    {
     "data": {
      "text/html": [
       "<div>\n",
       "<style scoped>\n",
       "    .dataframe tbody tr th:only-of-type {\n",
       "        vertical-align: middle;\n",
       "    }\n",
       "\n",
       "    .dataframe tbody tr th {\n",
       "        vertical-align: top;\n",
       "    }\n",
       "\n",
       "    .dataframe thead th {\n",
       "        text-align: right;\n",
       "    }\n",
       "</style>\n",
       "<table border=\"1\" class=\"dataframe\">\n",
       "  <thead>\n",
       "    <tr style=\"text-align: right;\">\n",
       "      <th></th>\n",
       "      <th>duration</th>\n",
       "      <th>src_bytes</th>\n",
       "      <th>dst_bytes</th>\n",
       "      <th>land</th>\n",
       "      <th>wrong_fragment</th>\n",
       "      <th>urgent</th>\n",
       "      <th>hot</th>\n",
       "      <th>num_failed_logins</th>\n",
       "      <th>logged_in</th>\n",
       "      <th>num_compromised</th>\n",
       "      <th>...</th>\n",
       "      <th>flag_REJ</th>\n",
       "      <th>flag_RSTO</th>\n",
       "      <th>flag_RSTOS0</th>\n",
       "      <th>flag_RSTR</th>\n",
       "      <th>flag_S0</th>\n",
       "      <th>flag_S1</th>\n",
       "      <th>flag_S2</th>\n",
       "      <th>flag_S3</th>\n",
       "      <th>flag_SF</th>\n",
       "      <th>flag_SH</th>\n",
       "    </tr>\n",
       "  </thead>\n",
       "  <tbody>\n",
       "    <tr>\n",
       "      <th>0</th>\n",
       "      <td>0</td>\n",
       "      <td>181</td>\n",
       "      <td>5450</td>\n",
       "      <td>0</td>\n",
       "      <td>0</td>\n",
       "      <td>0</td>\n",
       "      <td>0</td>\n",
       "      <td>0</td>\n",
       "      <td>1</td>\n",
       "      <td>0</td>\n",
       "      <td>...</td>\n",
       "      <td>False</td>\n",
       "      <td>False</td>\n",
       "      <td>False</td>\n",
       "      <td>False</td>\n",
       "      <td>False</td>\n",
       "      <td>False</td>\n",
       "      <td>False</td>\n",
       "      <td>False</td>\n",
       "      <td>True</td>\n",
       "      <td>False</td>\n",
       "    </tr>\n",
       "    <tr>\n",
       "      <th>1</th>\n",
       "      <td>0</td>\n",
       "      <td>239</td>\n",
       "      <td>486</td>\n",
       "      <td>0</td>\n",
       "      <td>0</td>\n",
       "      <td>0</td>\n",
       "      <td>0</td>\n",
       "      <td>0</td>\n",
       "      <td>1</td>\n",
       "      <td>0</td>\n",
       "      <td>...</td>\n",
       "      <td>False</td>\n",
       "      <td>False</td>\n",
       "      <td>False</td>\n",
       "      <td>False</td>\n",
       "      <td>False</td>\n",
       "      <td>False</td>\n",
       "      <td>False</td>\n",
       "      <td>False</td>\n",
       "      <td>True</td>\n",
       "      <td>False</td>\n",
       "    </tr>\n",
       "    <tr>\n",
       "      <th>2</th>\n",
       "      <td>0</td>\n",
       "      <td>235</td>\n",
       "      <td>1337</td>\n",
       "      <td>0</td>\n",
       "      <td>0</td>\n",
       "      <td>0</td>\n",
       "      <td>0</td>\n",
       "      <td>0</td>\n",
       "      <td>1</td>\n",
       "      <td>0</td>\n",
       "      <td>...</td>\n",
       "      <td>False</td>\n",
       "      <td>False</td>\n",
       "      <td>False</td>\n",
       "      <td>False</td>\n",
       "      <td>False</td>\n",
       "      <td>False</td>\n",
       "      <td>False</td>\n",
       "      <td>False</td>\n",
       "      <td>True</td>\n",
       "      <td>False</td>\n",
       "    </tr>\n",
       "    <tr>\n",
       "      <th>3</th>\n",
       "      <td>0</td>\n",
       "      <td>219</td>\n",
       "      <td>1337</td>\n",
       "      <td>0</td>\n",
       "      <td>0</td>\n",
       "      <td>0</td>\n",
       "      <td>0</td>\n",
       "      <td>0</td>\n",
       "      <td>1</td>\n",
       "      <td>0</td>\n",
       "      <td>...</td>\n",
       "      <td>False</td>\n",
       "      <td>False</td>\n",
       "      <td>False</td>\n",
       "      <td>False</td>\n",
       "      <td>False</td>\n",
       "      <td>False</td>\n",
       "      <td>False</td>\n",
       "      <td>False</td>\n",
       "      <td>True</td>\n",
       "      <td>False</td>\n",
       "    </tr>\n",
       "    <tr>\n",
       "      <th>4</th>\n",
       "      <td>0</td>\n",
       "      <td>217</td>\n",
       "      <td>2032</td>\n",
       "      <td>0</td>\n",
       "      <td>0</td>\n",
       "      <td>0</td>\n",
       "      <td>0</td>\n",
       "      <td>0</td>\n",
       "      <td>1</td>\n",
       "      <td>0</td>\n",
       "      <td>...</td>\n",
       "      <td>False</td>\n",
       "      <td>False</td>\n",
       "      <td>False</td>\n",
       "      <td>False</td>\n",
       "      <td>False</td>\n",
       "      <td>False</td>\n",
       "      <td>False</td>\n",
       "      <td>False</td>\n",
       "      <td>True</td>\n",
       "      <td>False</td>\n",
       "    </tr>\n",
       "    <tr>\n",
       "      <th>...</th>\n",
       "      <td>...</td>\n",
       "      <td>...</td>\n",
       "      <td>...</td>\n",
       "      <td>...</td>\n",
       "      <td>...</td>\n",
       "      <td>...</td>\n",
       "      <td>...</td>\n",
       "      <td>...</td>\n",
       "      <td>...</td>\n",
       "      <td>...</td>\n",
       "      <td>...</td>\n",
       "      <td>...</td>\n",
       "      <td>...</td>\n",
       "      <td>...</td>\n",
       "      <td>...</td>\n",
       "      <td>...</td>\n",
       "      <td>...</td>\n",
       "      <td>...</td>\n",
       "      <td>...</td>\n",
       "      <td>...</td>\n",
       "      <td>...</td>\n",
       "    </tr>\n",
       "    <tr>\n",
       "      <th>494016</th>\n",
       "      <td>0</td>\n",
       "      <td>310</td>\n",
       "      <td>1881</td>\n",
       "      <td>0</td>\n",
       "      <td>0</td>\n",
       "      <td>0</td>\n",
       "      <td>0</td>\n",
       "      <td>0</td>\n",
       "      <td>1</td>\n",
       "      <td>0</td>\n",
       "      <td>...</td>\n",
       "      <td>False</td>\n",
       "      <td>False</td>\n",
       "      <td>False</td>\n",
       "      <td>False</td>\n",
       "      <td>False</td>\n",
       "      <td>False</td>\n",
       "      <td>False</td>\n",
       "      <td>False</td>\n",
       "      <td>True</td>\n",
       "      <td>False</td>\n",
       "    </tr>\n",
       "    <tr>\n",
       "      <th>494017</th>\n",
       "      <td>0</td>\n",
       "      <td>282</td>\n",
       "      <td>2286</td>\n",
       "      <td>0</td>\n",
       "      <td>0</td>\n",
       "      <td>0</td>\n",
       "      <td>0</td>\n",
       "      <td>0</td>\n",
       "      <td>1</td>\n",
       "      <td>0</td>\n",
       "      <td>...</td>\n",
       "      <td>False</td>\n",
       "      <td>False</td>\n",
       "      <td>False</td>\n",
       "      <td>False</td>\n",
       "      <td>False</td>\n",
       "      <td>False</td>\n",
       "      <td>False</td>\n",
       "      <td>False</td>\n",
       "      <td>True</td>\n",
       "      <td>False</td>\n",
       "    </tr>\n",
       "    <tr>\n",
       "      <th>494018</th>\n",
       "      <td>0</td>\n",
       "      <td>203</td>\n",
       "      <td>1200</td>\n",
       "      <td>0</td>\n",
       "      <td>0</td>\n",
       "      <td>0</td>\n",
       "      <td>0</td>\n",
       "      <td>0</td>\n",
       "      <td>1</td>\n",
       "      <td>0</td>\n",
       "      <td>...</td>\n",
       "      <td>False</td>\n",
       "      <td>False</td>\n",
       "      <td>False</td>\n",
       "      <td>False</td>\n",
       "      <td>False</td>\n",
       "      <td>False</td>\n",
       "      <td>False</td>\n",
       "      <td>False</td>\n",
       "      <td>True</td>\n",
       "      <td>False</td>\n",
       "    </tr>\n",
       "    <tr>\n",
       "      <th>494019</th>\n",
       "      <td>0</td>\n",
       "      <td>291</td>\n",
       "      <td>1200</td>\n",
       "      <td>0</td>\n",
       "      <td>0</td>\n",
       "      <td>0</td>\n",
       "      <td>0</td>\n",
       "      <td>0</td>\n",
       "      <td>1</td>\n",
       "      <td>0</td>\n",
       "      <td>...</td>\n",
       "      <td>False</td>\n",
       "      <td>False</td>\n",
       "      <td>False</td>\n",
       "      <td>False</td>\n",
       "      <td>False</td>\n",
       "      <td>False</td>\n",
       "      <td>False</td>\n",
       "      <td>False</td>\n",
       "      <td>True</td>\n",
       "      <td>False</td>\n",
       "    </tr>\n",
       "    <tr>\n",
       "      <th>494020</th>\n",
       "      <td>0</td>\n",
       "      <td>219</td>\n",
       "      <td>1234</td>\n",
       "      <td>0</td>\n",
       "      <td>0</td>\n",
       "      <td>0</td>\n",
       "      <td>0</td>\n",
       "      <td>0</td>\n",
       "      <td>1</td>\n",
       "      <td>0</td>\n",
       "      <td>...</td>\n",
       "      <td>False</td>\n",
       "      <td>False</td>\n",
       "      <td>False</td>\n",
       "      <td>False</td>\n",
       "      <td>False</td>\n",
       "      <td>False</td>\n",
       "      <td>False</td>\n",
       "      <td>False</td>\n",
       "      <td>True</td>\n",
       "      <td>False</td>\n",
       "    </tr>\n",
       "  </tbody>\n",
       "</table>\n",
       "<p>494021 rows × 124 columns</p>\n",
       "</div>"
      ],
      "text/plain": [
       "        duration  src_bytes  dst_bytes  land  wrong_fragment  urgent  hot  \\\n",
       "0              0        181       5450     0               0       0    0   \n",
       "1              0        239        486     0               0       0    0   \n",
       "2              0        235       1337     0               0       0    0   \n",
       "3              0        219       1337     0               0       0    0   \n",
       "4              0        217       2032     0               0       0    0   \n",
       "...          ...        ...        ...   ...             ...     ...  ...   \n",
       "494016         0        310       1881     0               0       0    0   \n",
       "494017         0        282       2286     0               0       0    0   \n",
       "494018         0        203       1200     0               0       0    0   \n",
       "494019         0        291       1200     0               0       0    0   \n",
       "494020         0        219       1234     0               0       0    0   \n",
       "\n",
       "        num_failed_logins  logged_in  num_compromised  ...  flag_REJ  \\\n",
       "0                       0          1                0  ...     False   \n",
       "1                       0          1                0  ...     False   \n",
       "2                       0          1                0  ...     False   \n",
       "3                       0          1                0  ...     False   \n",
       "4                       0          1                0  ...     False   \n",
       "...                   ...        ...              ...  ...       ...   \n",
       "494016                  0          1                0  ...     False   \n",
       "494017                  0          1                0  ...     False   \n",
       "494018                  0          1                0  ...     False   \n",
       "494019                  0          1                0  ...     False   \n",
       "494020                  0          1                0  ...     False   \n",
       "\n",
       "        flag_RSTO  flag_RSTOS0  flag_RSTR  flag_S0  flag_S1  flag_S2  flag_S3  \\\n",
       "0           False        False      False    False    False    False    False   \n",
       "1           False        False      False    False    False    False    False   \n",
       "2           False        False      False    False    False    False    False   \n",
       "3           False        False      False    False    False    False    False   \n",
       "4           False        False      False    False    False    False    False   \n",
       "...           ...          ...        ...      ...      ...      ...      ...   \n",
       "494016      False        False      False    False    False    False    False   \n",
       "494017      False        False      False    False    False    False    False   \n",
       "494018      False        False      False    False    False    False    False   \n",
       "494019      False        False      False    False    False    False    False   \n",
       "494020      False        False      False    False    False    False    False   \n",
       "\n",
       "        flag_SF  flag_SH  \n",
       "0          True    False  \n",
       "1          True    False  \n",
       "2          True    False  \n",
       "3          True    False  \n",
       "4          True    False  \n",
       "...         ...      ...  \n",
       "494016     True    False  \n",
       "494017     True    False  \n",
       "494018     True    False  \n",
       "494019     True    False  \n",
       "494020     True    False  \n",
       "\n",
       "[494021 rows x 124 columns]"
      ]
     },
     "execution_count": 9,
     "metadata": {},
     "output_type": "execute_result"
    },
    {
     "name": "stdout",
     "output_type": "stream",
     "text": [
      "time: 78 ms (started: 2024-05-07 19:49:39 +05:30)\n"
     ]
    }
   ],
   "source": [
    "if not presaved_files:\n",
    "    train10 = pd.read_csv('data/kddcup.data_10_percent.gz', compression='gzip', names=columns)\n",
    "train10"
   ]
  },
  {
   "cell_type": "code",
   "execution_count": 10,
   "metadata": {},
   "outputs": [
    {
     "data": {
      "text/html": [
       "<div>\n",
       "<style scoped>\n",
       "    .dataframe tbody tr th:only-of-type {\n",
       "        vertical-align: middle;\n",
       "    }\n",
       "\n",
       "    .dataframe tbody tr th {\n",
       "        vertical-align: top;\n",
       "    }\n",
       "\n",
       "    .dataframe thead th {\n",
       "        text-align: right;\n",
       "    }\n",
       "</style>\n",
       "<table border=\"1\" class=\"dataframe\">\n",
       "  <thead>\n",
       "    <tr style=\"text-align: right;\">\n",
       "      <th></th>\n",
       "      <th>duration</th>\n",
       "      <th>src_bytes</th>\n",
       "      <th>dst_bytes</th>\n",
       "      <th>land</th>\n",
       "      <th>wrong_fragment</th>\n",
       "      <th>urgent</th>\n",
       "      <th>hot</th>\n",
       "      <th>num_failed_logins</th>\n",
       "      <th>logged_in</th>\n",
       "      <th>num_compromised</th>\n",
       "      <th>...</th>\n",
       "      <th>flag_REJ</th>\n",
       "      <th>flag_RSTO</th>\n",
       "      <th>flag_RSTOS0</th>\n",
       "      <th>flag_RSTR</th>\n",
       "      <th>flag_S0</th>\n",
       "      <th>flag_S1</th>\n",
       "      <th>flag_S2</th>\n",
       "      <th>flag_S3</th>\n",
       "      <th>flag_SF</th>\n",
       "      <th>flag_SH</th>\n",
       "    </tr>\n",
       "  </thead>\n",
       "  <tbody>\n",
       "    <tr>\n",
       "      <th>0</th>\n",
       "      <td>0</td>\n",
       "      <td>105</td>\n",
       "      <td>146</td>\n",
       "      <td>0</td>\n",
       "      <td>0</td>\n",
       "      <td>0</td>\n",
       "      <td>0</td>\n",
       "      <td>0</td>\n",
       "      <td>0</td>\n",
       "      <td>0</td>\n",
       "      <td>...</td>\n",
       "      <td>False</td>\n",
       "      <td>False</td>\n",
       "      <td>False</td>\n",
       "      <td>False</td>\n",
       "      <td>False</td>\n",
       "      <td>False</td>\n",
       "      <td>False</td>\n",
       "      <td>False</td>\n",
       "      <td>True</td>\n",
       "      <td>False</td>\n",
       "    </tr>\n",
       "    <tr>\n",
       "      <th>1</th>\n",
       "      <td>0</td>\n",
       "      <td>105</td>\n",
       "      <td>146</td>\n",
       "      <td>0</td>\n",
       "      <td>0</td>\n",
       "      <td>0</td>\n",
       "      <td>0</td>\n",
       "      <td>0</td>\n",
       "      <td>0</td>\n",
       "      <td>0</td>\n",
       "      <td>...</td>\n",
       "      <td>False</td>\n",
       "      <td>False</td>\n",
       "      <td>False</td>\n",
       "      <td>False</td>\n",
       "      <td>False</td>\n",
       "      <td>False</td>\n",
       "      <td>False</td>\n",
       "      <td>False</td>\n",
       "      <td>True</td>\n",
       "      <td>False</td>\n",
       "    </tr>\n",
       "    <tr>\n",
       "      <th>2</th>\n",
       "      <td>0</td>\n",
       "      <td>105</td>\n",
       "      <td>146</td>\n",
       "      <td>0</td>\n",
       "      <td>0</td>\n",
       "      <td>0</td>\n",
       "      <td>0</td>\n",
       "      <td>0</td>\n",
       "      <td>0</td>\n",
       "      <td>0</td>\n",
       "      <td>...</td>\n",
       "      <td>False</td>\n",
       "      <td>False</td>\n",
       "      <td>False</td>\n",
       "      <td>False</td>\n",
       "      <td>False</td>\n",
       "      <td>False</td>\n",
       "      <td>False</td>\n",
       "      <td>False</td>\n",
       "      <td>True</td>\n",
       "      <td>False</td>\n",
       "    </tr>\n",
       "    <tr>\n",
       "      <th>3</th>\n",
       "      <td>0</td>\n",
       "      <td>105</td>\n",
       "      <td>146</td>\n",
       "      <td>0</td>\n",
       "      <td>0</td>\n",
       "      <td>0</td>\n",
       "      <td>0</td>\n",
       "      <td>0</td>\n",
       "      <td>0</td>\n",
       "      <td>0</td>\n",
       "      <td>...</td>\n",
       "      <td>False</td>\n",
       "      <td>False</td>\n",
       "      <td>False</td>\n",
       "      <td>False</td>\n",
       "      <td>False</td>\n",
       "      <td>False</td>\n",
       "      <td>False</td>\n",
       "      <td>False</td>\n",
       "      <td>True</td>\n",
       "      <td>False</td>\n",
       "    </tr>\n",
       "    <tr>\n",
       "      <th>4</th>\n",
       "      <td>0</td>\n",
       "      <td>105</td>\n",
       "      <td>146</td>\n",
       "      <td>0</td>\n",
       "      <td>0</td>\n",
       "      <td>0</td>\n",
       "      <td>0</td>\n",
       "      <td>0</td>\n",
       "      <td>0</td>\n",
       "      <td>0</td>\n",
       "      <td>...</td>\n",
       "      <td>False</td>\n",
       "      <td>False</td>\n",
       "      <td>False</td>\n",
       "      <td>False</td>\n",
       "      <td>False</td>\n",
       "      <td>False</td>\n",
       "      <td>False</td>\n",
       "      <td>False</td>\n",
       "      <td>True</td>\n",
       "      <td>False</td>\n",
       "    </tr>\n",
       "    <tr>\n",
       "      <th>...</th>\n",
       "      <td>...</td>\n",
       "      <td>...</td>\n",
       "      <td>...</td>\n",
       "      <td>...</td>\n",
       "      <td>...</td>\n",
       "      <td>...</td>\n",
       "      <td>...</td>\n",
       "      <td>...</td>\n",
       "      <td>...</td>\n",
       "      <td>...</td>\n",
       "      <td>...</td>\n",
       "      <td>...</td>\n",
       "      <td>...</td>\n",
       "      <td>...</td>\n",
       "      <td>...</td>\n",
       "      <td>...</td>\n",
       "      <td>...</td>\n",
       "      <td>...</td>\n",
       "      <td>...</td>\n",
       "      <td>...</td>\n",
       "      <td>...</td>\n",
       "    </tr>\n",
       "    <tr>\n",
       "      <th>311024</th>\n",
       "      <td>0</td>\n",
       "      <td>105</td>\n",
       "      <td>147</td>\n",
       "      <td>0</td>\n",
       "      <td>0</td>\n",
       "      <td>0</td>\n",
       "      <td>0</td>\n",
       "      <td>0</td>\n",
       "      <td>0</td>\n",
       "      <td>0</td>\n",
       "      <td>...</td>\n",
       "      <td>False</td>\n",
       "      <td>False</td>\n",
       "      <td>False</td>\n",
       "      <td>False</td>\n",
       "      <td>False</td>\n",
       "      <td>False</td>\n",
       "      <td>False</td>\n",
       "      <td>False</td>\n",
       "      <td>True</td>\n",
       "      <td>False</td>\n",
       "    </tr>\n",
       "    <tr>\n",
       "      <th>311025</th>\n",
       "      <td>0</td>\n",
       "      <td>105</td>\n",
       "      <td>147</td>\n",
       "      <td>0</td>\n",
       "      <td>0</td>\n",
       "      <td>0</td>\n",
       "      <td>0</td>\n",
       "      <td>0</td>\n",
       "      <td>0</td>\n",
       "      <td>0</td>\n",
       "      <td>...</td>\n",
       "      <td>False</td>\n",
       "      <td>False</td>\n",
       "      <td>False</td>\n",
       "      <td>False</td>\n",
       "      <td>False</td>\n",
       "      <td>False</td>\n",
       "      <td>False</td>\n",
       "      <td>False</td>\n",
       "      <td>True</td>\n",
       "      <td>False</td>\n",
       "    </tr>\n",
       "    <tr>\n",
       "      <th>311026</th>\n",
       "      <td>0</td>\n",
       "      <td>105</td>\n",
       "      <td>147</td>\n",
       "      <td>0</td>\n",
       "      <td>0</td>\n",
       "      <td>0</td>\n",
       "      <td>0</td>\n",
       "      <td>0</td>\n",
       "      <td>0</td>\n",
       "      <td>0</td>\n",
       "      <td>...</td>\n",
       "      <td>False</td>\n",
       "      <td>False</td>\n",
       "      <td>False</td>\n",
       "      <td>False</td>\n",
       "      <td>False</td>\n",
       "      <td>False</td>\n",
       "      <td>False</td>\n",
       "      <td>False</td>\n",
       "      <td>True</td>\n",
       "      <td>False</td>\n",
       "    </tr>\n",
       "    <tr>\n",
       "      <th>311027</th>\n",
       "      <td>0</td>\n",
       "      <td>105</td>\n",
       "      <td>147</td>\n",
       "      <td>0</td>\n",
       "      <td>0</td>\n",
       "      <td>0</td>\n",
       "      <td>0</td>\n",
       "      <td>0</td>\n",
       "      <td>0</td>\n",
       "      <td>0</td>\n",
       "      <td>...</td>\n",
       "      <td>False</td>\n",
       "      <td>False</td>\n",
       "      <td>False</td>\n",
       "      <td>False</td>\n",
       "      <td>False</td>\n",
       "      <td>False</td>\n",
       "      <td>False</td>\n",
       "      <td>False</td>\n",
       "      <td>True</td>\n",
       "      <td>False</td>\n",
       "    </tr>\n",
       "    <tr>\n",
       "      <th>311028</th>\n",
       "      <td>0</td>\n",
       "      <td>105</td>\n",
       "      <td>147</td>\n",
       "      <td>0</td>\n",
       "      <td>0</td>\n",
       "      <td>0</td>\n",
       "      <td>0</td>\n",
       "      <td>0</td>\n",
       "      <td>0</td>\n",
       "      <td>0</td>\n",
       "      <td>...</td>\n",
       "      <td>False</td>\n",
       "      <td>False</td>\n",
       "      <td>False</td>\n",
       "      <td>False</td>\n",
       "      <td>False</td>\n",
       "      <td>False</td>\n",
       "      <td>False</td>\n",
       "      <td>False</td>\n",
       "      <td>True</td>\n",
       "      <td>False</td>\n",
       "    </tr>\n",
       "  </tbody>\n",
       "</table>\n",
       "<p>311029 rows × 124 columns</p>\n",
       "</div>"
      ],
      "text/plain": [
       "        duration  src_bytes  dst_bytes  land  wrong_fragment  urgent  hot  \\\n",
       "0              0        105        146     0               0       0    0   \n",
       "1              0        105        146     0               0       0    0   \n",
       "2              0        105        146     0               0       0    0   \n",
       "3              0        105        146     0               0       0    0   \n",
       "4              0        105        146     0               0       0    0   \n",
       "...          ...        ...        ...   ...             ...     ...  ...   \n",
       "311024         0        105        147     0               0       0    0   \n",
       "311025         0        105        147     0               0       0    0   \n",
       "311026         0        105        147     0               0       0    0   \n",
       "311027         0        105        147     0               0       0    0   \n",
       "311028         0        105        147     0               0       0    0   \n",
       "\n",
       "        num_failed_logins  logged_in  num_compromised  ...  flag_REJ  \\\n",
       "0                       0          0                0  ...     False   \n",
       "1                       0          0                0  ...     False   \n",
       "2                       0          0                0  ...     False   \n",
       "3                       0          0                0  ...     False   \n",
       "4                       0          0                0  ...     False   \n",
       "...                   ...        ...              ...  ...       ...   \n",
       "311024                  0          0                0  ...     False   \n",
       "311025                  0          0                0  ...     False   \n",
       "311026                  0          0                0  ...     False   \n",
       "311027                  0          0                0  ...     False   \n",
       "311028                  0          0                0  ...     False   \n",
       "\n",
       "        flag_RSTO  flag_RSTOS0  flag_RSTR  flag_S0  flag_S1  flag_S2  flag_S3  \\\n",
       "0           False        False      False    False    False    False    False   \n",
       "1           False        False      False    False    False    False    False   \n",
       "2           False        False      False    False    False    False    False   \n",
       "3           False        False      False    False    False    False    False   \n",
       "4           False        False      False    False    False    False    False   \n",
       "...           ...          ...        ...      ...      ...      ...      ...   \n",
       "311024      False        False      False    False    False    False    False   \n",
       "311025      False        False      False    False    False    False    False   \n",
       "311026      False        False      False    False    False    False    False   \n",
       "311027      False        False      False    False    False    False    False   \n",
       "311028      False        False      False    False    False    False    False   \n",
       "\n",
       "        flag_SF  flag_SH  \n",
       "0          True    False  \n",
       "1          True    False  \n",
       "2          True    False  \n",
       "3          True    False  \n",
       "4          True    False  \n",
       "...         ...      ...  \n",
       "311024     True    False  \n",
       "311025     True    False  \n",
       "311026     True    False  \n",
       "311027     True    False  \n",
       "311028     True    False  \n",
       "\n",
       "[311029 rows x 124 columns]"
      ]
     },
     "execution_count": 10,
     "metadata": {},
     "output_type": "execute_result"
    },
    {
     "name": "stdout",
     "output_type": "stream",
     "text": [
      "time: 63 ms (started: 2024-05-07 19:49:41 +05:30)\n"
     ]
    }
   ],
   "source": [
    "if not presaved_files:\n",
    "    test = pd.read_csv('data/corrected.gz', compression='gzip', names=columns)\n",
    "test"
   ]
  },
  {
   "cell_type": "markdown",
   "metadata": {},
   "source": [
    "**One-Hot Encoding Categorical Columns**"
   ]
  },
  {
   "cell_type": "code",
   "execution_count": 11,
   "metadata": {},
   "outputs": [
    {
     "name": "stdout",
     "output_type": "stream",
     "text": [
      "time: 0 ns (started: 2024-05-07 19:49:43 +05:30)\n"
     ]
    }
   ],
   "source": [
    "def one_hot_encode_df(df1, df2, df3, columns_to_encode):\n",
    "    dataframes = [df1, df2, df3]\n",
    "\n",
    "    # Concatenate the DataFrames vertically\n",
    "    concatenated_df = pd.concat(dataframes)\n",
    "\n",
    "    # Perform one-hot encoding on the concatenated DataFrame\n",
    "    encoded_df = pd.get_dummies(concatenated_df, columns=columns_to_encode)\n",
    "\n",
    "    # Split the encoded DataFrame back into the original three DataFrames\n",
    "    df1_encoded = encoded_df[:len(df1)]\n",
    "    df2_encoded = encoded_df[len(df1):len(df1)+len(df2)]\n",
    "    df3_encoded = encoded_df[len(df1)+len(df2):]\n",
    "\n",
    "    return df1_encoded, df2_encoded, df3_encoded"
   ]
  },
  {
   "cell_type": "code",
   "execution_count": 12,
   "metadata": {},
   "outputs": [
    {
     "name": "stdout",
     "output_type": "stream",
     "text": [
      "time: 0 ns (started: 2024-05-07 19:49:45 +05:30)\n"
     ]
    }
   ],
   "source": [
    "if not presaved_files:\n",
    "    train, train10, test = one_hot_encode_df(train, train10, test, ['protocol_type', 'service', 'flag'])"
   ]
  },
  {
   "cell_type": "markdown",
   "metadata": {},
   "source": [
    "**Label encode labels**"
   ]
  },
  {
   "cell_type": "code",
   "execution_count": 13,
   "metadata": {},
   "outputs": [
    {
     "name": "stdout",
     "output_type": "stream",
     "text": [
      "time: 0 ns (started: 2024-05-07 19:49:46 +05:30)\n"
     ]
    }
   ],
   "source": [
    "if not presaved_files:\n",
    "    le = preprocessing.LabelEncoder()\n",
    "    le.fit(pd.concat([train['label'], test['label']], axis=0))\n",
    "    le_mapping = dict(zip(le.classes_, le.transform(le.classes_)))\n",
    "\n",
    "    train.replace({'label': le_mapping}, inplace=True)\n",
    "    train10.replace({'label': le_mapping}, inplace=True)\n",
    "    test.replace({'label': le_mapping}, inplace=True)"
   ]
  },
  {
   "cell_type": "markdown",
   "metadata": {},
   "source": [
    "**Save Processed Data for Later Runs**"
   ]
  },
  {
   "cell_type": "code",
   "execution_count": 14,
   "metadata": {},
   "outputs": [
    {
     "data": {
      "text/html": [
       "<div>\n",
       "<style scoped>\n",
       "    .dataframe tbody tr th:only-of-type {\n",
       "        vertical-align: middle;\n",
       "    }\n",
       "\n",
       "    .dataframe tbody tr th {\n",
       "        vertical-align: top;\n",
       "    }\n",
       "\n",
       "    .dataframe thead th {\n",
       "        text-align: right;\n",
       "    }\n",
       "</style>\n",
       "<table border=\"1\" class=\"dataframe\">\n",
       "  <thead>\n",
       "    <tr style=\"text-align: right;\">\n",
       "      <th></th>\n",
       "      <th>duration</th>\n",
       "      <th>src_bytes</th>\n",
       "      <th>dst_bytes</th>\n",
       "      <th>land</th>\n",
       "      <th>wrong_fragment</th>\n",
       "      <th>urgent</th>\n",
       "      <th>hot</th>\n",
       "      <th>num_failed_logins</th>\n",
       "      <th>logged_in</th>\n",
       "      <th>num_compromised</th>\n",
       "      <th>...</th>\n",
       "      <th>flag_REJ</th>\n",
       "      <th>flag_RSTO</th>\n",
       "      <th>flag_RSTOS0</th>\n",
       "      <th>flag_RSTR</th>\n",
       "      <th>flag_S0</th>\n",
       "      <th>flag_S1</th>\n",
       "      <th>flag_S2</th>\n",
       "      <th>flag_S3</th>\n",
       "      <th>flag_SF</th>\n",
       "      <th>flag_SH</th>\n",
       "    </tr>\n",
       "  </thead>\n",
       "  <tbody>\n",
       "    <tr>\n",
       "      <th>0</th>\n",
       "      <td>0</td>\n",
       "      <td>215</td>\n",
       "      <td>45076</td>\n",
       "      <td>0</td>\n",
       "      <td>0</td>\n",
       "      <td>0</td>\n",
       "      <td>0</td>\n",
       "      <td>0</td>\n",
       "      <td>1</td>\n",
       "      <td>0</td>\n",
       "      <td>...</td>\n",
       "      <td>False</td>\n",
       "      <td>False</td>\n",
       "      <td>False</td>\n",
       "      <td>False</td>\n",
       "      <td>False</td>\n",
       "      <td>False</td>\n",
       "      <td>False</td>\n",
       "      <td>False</td>\n",
       "      <td>True</td>\n",
       "      <td>False</td>\n",
       "    </tr>\n",
       "    <tr>\n",
       "      <th>1</th>\n",
       "      <td>0</td>\n",
       "      <td>162</td>\n",
       "      <td>4528</td>\n",
       "      <td>0</td>\n",
       "      <td>0</td>\n",
       "      <td>0</td>\n",
       "      <td>0</td>\n",
       "      <td>0</td>\n",
       "      <td>1</td>\n",
       "      <td>0</td>\n",
       "      <td>...</td>\n",
       "      <td>False</td>\n",
       "      <td>False</td>\n",
       "      <td>False</td>\n",
       "      <td>False</td>\n",
       "      <td>False</td>\n",
       "      <td>False</td>\n",
       "      <td>False</td>\n",
       "      <td>False</td>\n",
       "      <td>True</td>\n",
       "      <td>False</td>\n",
       "    </tr>\n",
       "    <tr>\n",
       "      <th>2</th>\n",
       "      <td>0</td>\n",
       "      <td>236</td>\n",
       "      <td>1228</td>\n",
       "      <td>0</td>\n",
       "      <td>0</td>\n",
       "      <td>0</td>\n",
       "      <td>0</td>\n",
       "      <td>0</td>\n",
       "      <td>1</td>\n",
       "      <td>0</td>\n",
       "      <td>...</td>\n",
       "      <td>False</td>\n",
       "      <td>False</td>\n",
       "      <td>False</td>\n",
       "      <td>False</td>\n",
       "      <td>False</td>\n",
       "      <td>False</td>\n",
       "      <td>False</td>\n",
       "      <td>False</td>\n",
       "      <td>True</td>\n",
       "      <td>False</td>\n",
       "    </tr>\n",
       "    <tr>\n",
       "      <th>3</th>\n",
       "      <td>0</td>\n",
       "      <td>233</td>\n",
       "      <td>2032</td>\n",
       "      <td>0</td>\n",
       "      <td>0</td>\n",
       "      <td>0</td>\n",
       "      <td>0</td>\n",
       "      <td>0</td>\n",
       "      <td>1</td>\n",
       "      <td>0</td>\n",
       "      <td>...</td>\n",
       "      <td>False</td>\n",
       "      <td>False</td>\n",
       "      <td>False</td>\n",
       "      <td>False</td>\n",
       "      <td>False</td>\n",
       "      <td>False</td>\n",
       "      <td>False</td>\n",
       "      <td>False</td>\n",
       "      <td>True</td>\n",
       "      <td>False</td>\n",
       "    </tr>\n",
       "    <tr>\n",
       "      <th>4</th>\n",
       "      <td>0</td>\n",
       "      <td>239</td>\n",
       "      <td>486</td>\n",
       "      <td>0</td>\n",
       "      <td>0</td>\n",
       "      <td>0</td>\n",
       "      <td>0</td>\n",
       "      <td>0</td>\n",
       "      <td>1</td>\n",
       "      <td>0</td>\n",
       "      <td>...</td>\n",
       "      <td>False</td>\n",
       "      <td>False</td>\n",
       "      <td>False</td>\n",
       "      <td>False</td>\n",
       "      <td>False</td>\n",
       "      <td>False</td>\n",
       "      <td>False</td>\n",
       "      <td>False</td>\n",
       "      <td>True</td>\n",
       "      <td>False</td>\n",
       "    </tr>\n",
       "    <tr>\n",
       "      <th>...</th>\n",
       "      <td>...</td>\n",
       "      <td>...</td>\n",
       "      <td>...</td>\n",
       "      <td>...</td>\n",
       "      <td>...</td>\n",
       "      <td>...</td>\n",
       "      <td>...</td>\n",
       "      <td>...</td>\n",
       "      <td>...</td>\n",
       "      <td>...</td>\n",
       "      <td>...</td>\n",
       "      <td>...</td>\n",
       "      <td>...</td>\n",
       "      <td>...</td>\n",
       "      <td>...</td>\n",
       "      <td>...</td>\n",
       "      <td>...</td>\n",
       "      <td>...</td>\n",
       "      <td>...</td>\n",
       "      <td>...</td>\n",
       "      <td>...</td>\n",
       "    </tr>\n",
       "    <tr>\n",
       "      <th>4898425</th>\n",
       "      <td>0</td>\n",
       "      <td>219</td>\n",
       "      <td>244</td>\n",
       "      <td>0</td>\n",
       "      <td>0</td>\n",
       "      <td>0</td>\n",
       "      <td>0</td>\n",
       "      <td>0</td>\n",
       "      <td>1</td>\n",
       "      <td>0</td>\n",
       "      <td>...</td>\n",
       "      <td>False</td>\n",
       "      <td>False</td>\n",
       "      <td>False</td>\n",
       "      <td>False</td>\n",
       "      <td>False</td>\n",
       "      <td>False</td>\n",
       "      <td>False</td>\n",
       "      <td>False</td>\n",
       "      <td>True</td>\n",
       "      <td>False</td>\n",
       "    </tr>\n",
       "    <tr>\n",
       "      <th>4898426</th>\n",
       "      <td>0</td>\n",
       "      <td>212</td>\n",
       "      <td>2288</td>\n",
       "      <td>0</td>\n",
       "      <td>0</td>\n",
       "      <td>0</td>\n",
       "      <td>0</td>\n",
       "      <td>0</td>\n",
       "      <td>1</td>\n",
       "      <td>0</td>\n",
       "      <td>...</td>\n",
       "      <td>False</td>\n",
       "      <td>False</td>\n",
       "      <td>False</td>\n",
       "      <td>False</td>\n",
       "      <td>False</td>\n",
       "      <td>False</td>\n",
       "      <td>False</td>\n",
       "      <td>False</td>\n",
       "      <td>True</td>\n",
       "      <td>False</td>\n",
       "    </tr>\n",
       "    <tr>\n",
       "      <th>4898427</th>\n",
       "      <td>0</td>\n",
       "      <td>219</td>\n",
       "      <td>236</td>\n",
       "      <td>0</td>\n",
       "      <td>0</td>\n",
       "      <td>0</td>\n",
       "      <td>0</td>\n",
       "      <td>0</td>\n",
       "      <td>1</td>\n",
       "      <td>0</td>\n",
       "      <td>...</td>\n",
       "      <td>False</td>\n",
       "      <td>False</td>\n",
       "      <td>False</td>\n",
       "      <td>False</td>\n",
       "      <td>False</td>\n",
       "      <td>False</td>\n",
       "      <td>False</td>\n",
       "      <td>False</td>\n",
       "      <td>True</td>\n",
       "      <td>False</td>\n",
       "    </tr>\n",
       "    <tr>\n",
       "      <th>4898428</th>\n",
       "      <td>0</td>\n",
       "      <td>218</td>\n",
       "      <td>3610</td>\n",
       "      <td>0</td>\n",
       "      <td>0</td>\n",
       "      <td>0</td>\n",
       "      <td>0</td>\n",
       "      <td>0</td>\n",
       "      <td>1</td>\n",
       "      <td>0</td>\n",
       "      <td>...</td>\n",
       "      <td>False</td>\n",
       "      <td>False</td>\n",
       "      <td>False</td>\n",
       "      <td>False</td>\n",
       "      <td>False</td>\n",
       "      <td>False</td>\n",
       "      <td>False</td>\n",
       "      <td>False</td>\n",
       "      <td>True</td>\n",
       "      <td>False</td>\n",
       "    </tr>\n",
       "    <tr>\n",
       "      <th>4898429</th>\n",
       "      <td>0</td>\n",
       "      <td>219</td>\n",
       "      <td>1234</td>\n",
       "      <td>0</td>\n",
       "      <td>0</td>\n",
       "      <td>0</td>\n",
       "      <td>0</td>\n",
       "      <td>0</td>\n",
       "      <td>1</td>\n",
       "      <td>0</td>\n",
       "      <td>...</td>\n",
       "      <td>False</td>\n",
       "      <td>False</td>\n",
       "      <td>False</td>\n",
       "      <td>False</td>\n",
       "      <td>False</td>\n",
       "      <td>False</td>\n",
       "      <td>False</td>\n",
       "      <td>False</td>\n",
       "      <td>True</td>\n",
       "      <td>False</td>\n",
       "    </tr>\n",
       "  </tbody>\n",
       "</table>\n",
       "<p>4898430 rows × 124 columns</p>\n",
       "</div>"
      ],
      "text/plain": [
       "         duration  src_bytes  dst_bytes  land  wrong_fragment  urgent  hot  \\\n",
       "0               0        215      45076     0               0       0    0   \n",
       "1               0        162       4528     0               0       0    0   \n",
       "2               0        236       1228     0               0       0    0   \n",
       "3               0        233       2032     0               0       0    0   \n",
       "4               0        239        486     0               0       0    0   \n",
       "...           ...        ...        ...   ...             ...     ...  ...   \n",
       "4898425         0        219        244     0               0       0    0   \n",
       "4898426         0        212       2288     0               0       0    0   \n",
       "4898427         0        219        236     0               0       0    0   \n",
       "4898428         0        218       3610     0               0       0    0   \n",
       "4898429         0        219       1234     0               0       0    0   \n",
       "\n",
       "         num_failed_logins  logged_in  num_compromised  ...  flag_REJ  \\\n",
       "0                        0          1                0  ...     False   \n",
       "1                        0          1                0  ...     False   \n",
       "2                        0          1                0  ...     False   \n",
       "3                        0          1                0  ...     False   \n",
       "4                        0          1                0  ...     False   \n",
       "...                    ...        ...              ...  ...       ...   \n",
       "4898425                  0          1                0  ...     False   \n",
       "4898426                  0          1                0  ...     False   \n",
       "4898427                  0          1                0  ...     False   \n",
       "4898428                  0          1                0  ...     False   \n",
       "4898429                  0          1                0  ...     False   \n",
       "\n",
       "         flag_RSTO  flag_RSTOS0  flag_RSTR  flag_S0  flag_S1  flag_S2  \\\n",
       "0            False        False      False    False    False    False   \n",
       "1            False        False      False    False    False    False   \n",
       "2            False        False      False    False    False    False   \n",
       "3            False        False      False    False    False    False   \n",
       "4            False        False      False    False    False    False   \n",
       "...            ...          ...        ...      ...      ...      ...   \n",
       "4898425      False        False      False    False    False    False   \n",
       "4898426      False        False      False    False    False    False   \n",
       "4898427      False        False      False    False    False    False   \n",
       "4898428      False        False      False    False    False    False   \n",
       "4898429      False        False      False    False    False    False   \n",
       "\n",
       "         flag_S3  flag_SF  flag_SH  \n",
       "0          False     True    False  \n",
       "1          False     True    False  \n",
       "2          False     True    False  \n",
       "3          False     True    False  \n",
       "4          False     True    False  \n",
       "...          ...      ...      ...  \n",
       "4898425    False     True    False  \n",
       "4898426    False     True    False  \n",
       "4898427    False     True    False  \n",
       "4898428    False     True    False  \n",
       "4898429    False     True    False  \n",
       "\n",
       "[4898430 rows x 124 columns]"
      ]
     },
     "execution_count": 14,
     "metadata": {},
     "output_type": "execute_result"
    },
    {
     "name": "stdout",
     "output_type": "stream",
     "text": [
      "time: 547 ms (started: 2024-05-07 19:49:48 +05:30)\n"
     ]
    }
   ],
   "source": [
    "train.iloc[:-1]"
   ]
  },
  {
   "cell_type": "code",
   "execution_count": 15,
   "metadata": {},
   "outputs": [
    {
     "name": "stdout",
     "output_type": "stream",
     "text": [
      "time: 16 ms (started: 2024-05-07 19:49:50 +05:30)\n"
     ]
    }
   ],
   "source": [
    "if not presaved_files:\n",
    "    train.to_csv(\"train.gz\", index=False, compression=\"gzip\")\n",
    "    train10.to_csv(\"train10.gz\", index=False, compression=\"gzip\")\n",
    "    test.to_csv(\"test.gz\", index=False, compression=\"gzip\")\n",
    "    \n",
    "    presaved_files = True"
   ]
  },
  {
   "cell_type": "markdown",
   "metadata": {},
   "source": [
    "**Dropping the label column**"
   ]
  },
  {
   "cell_type": "code",
   "execution_count": 16,
   "metadata": {},
   "outputs": [
    {
     "name": "stdout",
     "output_type": "stream",
     "text": [
      "time: 672 ms (started: 2024-05-07 19:49:52 +05:30)\n"
     ]
    }
   ],
   "source": [
    "train_label = train.loc[:, 'label']\n",
    "train.drop(['label'], axis=1, inplace=True)"
   ]
  },
  {
   "cell_type": "code",
   "execution_count": 17,
   "metadata": {},
   "outputs": [
    {
     "name": "stdout",
     "output_type": "stream",
     "text": [
      "time: 78 ms (started: 2024-05-07 19:49:53 +05:30)\n"
     ]
    }
   ],
   "source": [
    "train10_label = train10.loc[:, 'label']\n",
    "train10.drop(['label'], axis=1, inplace=True)"
   ]
  },
  {
   "cell_type": "code",
   "execution_count": 18,
   "metadata": {},
   "outputs": [
    {
     "name": "stdout",
     "output_type": "stream",
     "text": [
      "time: 47 ms (started: 2024-05-07 19:49:55 +05:30)\n"
     ]
    }
   ],
   "source": [
    "test_label = test.loc[:, 'label']\n",
    "test.drop(['label'], axis=1, inplace=True)"
   ]
  },
  {
   "cell_type": "markdown",
   "metadata": {},
   "source": [
    "**Dataset Analysis**"
   ]
  },
  {
   "cell_type": "code",
   "execution_count": 19,
   "metadata": {},
   "outputs": [
    {
     "name": "stdout",
     "output_type": "stream",
     "text": [
      "<class 'pandas.core.frame.DataFrame'>\n",
      "RangeIndex: 4898431 entries, 0 to 4898430\n",
      "Columns: 123 entries, duration to flag_SH\n",
      "dtypes: bool(85), float64(15), int64(23)\n",
      "memory usage: 1.8 GB\n",
      "time: 15 ms (started: 2024-05-07 19:49:59 +05:30)\n"
     ]
    }
   ],
   "source": [
    "train.info()"
   ]
  },
  {
   "cell_type": "code",
   "execution_count": 20,
   "metadata": {},
   "outputs": [
    {
     "name": "stdout",
     "output_type": "stream",
     "text": [
      "<class 'pandas.core.frame.DataFrame'>\n",
      "RangeIndex: 494021 entries, 0 to 494020\n",
      "Columns: 123 entries, duration to flag_SH\n",
      "dtypes: bool(85), float64(15), int64(23)\n",
      "memory usage: 183.3 MB\n",
      "time: 0 ns (started: 2024-05-07 19:50:00 +05:30)\n"
     ]
    }
   ],
   "source": [
    "train10.info()"
   ]
  },
  {
   "cell_type": "code",
   "execution_count": 21,
   "metadata": {},
   "outputs": [
    {
     "name": "stdout",
     "output_type": "stream",
     "text": [
      "<class 'pandas.core.frame.DataFrame'>\n",
      "RangeIndex: 311029 entries, 0 to 311028\n",
      "Columns: 123 entries, duration to flag_SH\n",
      "dtypes: bool(85), float64(15), int64(23)\n",
      "memory usage: 115.4 MB\n",
      "time: 0 ns (started: 2024-05-07 19:50:02 +05:30)\n"
     ]
    }
   ],
   "source": [
    "test.info()"
   ]
  },
  {
   "cell_type": "code",
   "execution_count": 22,
   "metadata": {},
   "outputs": [
    {
     "data": {
      "text/plain": [
       "duration           9883\n",
       "src_bytes          7195\n",
       "dst_bytes         21493\n",
       "land                  2\n",
       "wrong_fragment        3\n",
       "                  ...  \n",
       "flag_S1               2\n",
       "flag_S2               2\n",
       "flag_S3               2\n",
       "flag_SF               2\n",
       "flag_SH               2\n",
       "Length: 123, dtype: int64"
      ]
     },
     "execution_count": 22,
     "metadata": {},
     "output_type": "execute_result"
    },
    {
     "name": "stdout",
     "output_type": "stream",
     "text": [
      "time: 3.77 s (started: 2024-05-07 19:50:03 +05:30)\n"
     ]
    }
   ],
   "source": [
    "train.nunique()"
   ]
  },
  {
   "cell_type": "code",
   "execution_count": 23,
   "metadata": {},
   "outputs": [
    {
     "data": {
      "text/plain": [
       "duration           2495\n",
       "src_bytes          3300\n",
       "dst_bytes         10725\n",
       "land                  2\n",
       "wrong_fragment        3\n",
       "                  ...  \n",
       "flag_S1               2\n",
       "flag_S2               2\n",
       "flag_S3               2\n",
       "flag_SF               2\n",
       "flag_SH               2\n",
       "Length: 123, dtype: int64"
      ]
     },
     "execution_count": 23,
     "metadata": {},
     "output_type": "execute_result"
    },
    {
     "name": "stdout",
     "output_type": "stream",
     "text": [
      "time: 578 ms (started: 2024-05-07 19:50:09 +05:30)\n"
     ]
    }
   ],
   "source": [
    "train10.nunique()"
   ]
  },
  {
   "cell_type": "code",
   "execution_count": 24,
   "metadata": {},
   "outputs": [
    {
     "data": {
      "text/plain": [
       "duration           745\n",
       "src_bytes         2504\n",
       "dst_bytes         9202\n",
       "land                 2\n",
       "wrong_fragment       3\n",
       "                  ... \n",
       "flag_S1              2\n",
       "flag_S2              2\n",
       "flag_S3              2\n",
       "flag_SF              2\n",
       "flag_SH              2\n",
       "Length: 123, dtype: int64"
      ]
     },
     "execution_count": 24,
     "metadata": {},
     "output_type": "execute_result"
    },
    {
     "name": "stdout",
     "output_type": "stream",
     "text": [
      "time: 281 ms (started: 2024-05-07 19:50:11 +05:30)\n"
     ]
    }
   ],
   "source": [
    "test.nunique()"
   ]
  },
  {
   "cell_type": "markdown",
   "metadata": {},
   "source": [
    "**Removing `num_outbound_cmds` column from dataset as it has only one value**"
   ]
  },
  {
   "cell_type": "code",
   "execution_count": 25,
   "metadata": {},
   "outputs": [
    {
     "name": "stdout",
     "output_type": "stream",
     "text": [
      "time: 734 ms (started: 2024-05-07 19:50:13 +05:30)\n"
     ]
    }
   ],
   "source": [
    "train.drop(columns=['num_outbound_cmds'], inplace=True)"
   ]
  },
  {
   "cell_type": "code",
   "execution_count": 26,
   "metadata": {},
   "outputs": [
    {
     "name": "stdout",
     "output_type": "stream",
     "text": [
      "time: 94 ms (started: 2024-05-07 19:50:14 +05:30)\n"
     ]
    }
   ],
   "source": [
    "train10.drop(columns=['num_outbound_cmds'], inplace=True)"
   ]
  },
  {
   "cell_type": "code",
   "execution_count": 27,
   "metadata": {},
   "outputs": [
    {
     "name": "stdout",
     "output_type": "stream",
     "text": [
      "time: 47 ms (started: 2024-05-07 19:50:16 +05:30)\n"
     ]
    }
   ],
   "source": [
    "test.drop(columns=['num_outbound_cmds'], inplace=True)"
   ]
  },
  {
   "cell_type": "markdown",
   "metadata": {},
   "source": [
    "**Converting to NumPy arrays**"
   ]
  },
  {
   "cell_type": "code",
   "execution_count": 28,
   "metadata": {},
   "outputs": [
    {
     "name": "stdout",
     "output_type": "stream",
     "text": [
      "time: 56.2 s (started: 2024-05-07 19:50:18 +05:30)\n"
     ]
    }
   ],
   "source": [
    "x_train = train.to_numpy().astype('float32')\n",
    "y_train = train_label.to_numpy().astype('uint8')\n",
    "\n",
    "x_train10 = train10.to_numpy().astype('float32')\n",
    "y_train10 = train10_label.to_numpy().astype('uint8')\n",
    "\n",
    "x_test = test.to_numpy().astype('float32')\n",
    "y_test = test_label.to_numpy().astype('uint8')"
   ]
  },
  {
   "cell_type": "markdown",
   "metadata": {},
   "source": [
    "**Running PCA on dataset to reduce dimensionality**"
   ]
  },
  {
   "cell_type": "code",
   "execution_count": 29,
   "metadata": {},
   "outputs": [
    {
     "data": {
      "text/plain": [
       "2"
      ]
     },
     "execution_count": 29,
     "metadata": {},
     "output_type": "execute_result"
    },
    {
     "name": "stdout",
     "output_type": "stream",
     "text": [
      "time: 1min 8s (started: 2024-05-07 19:52:25 +05:30)\n"
     ]
    }
   ],
   "source": [
    "pca = PCA()\n",
    "pca.fit(x_train)\n",
    "\n",
    "# Calculate the number of components based on the desired variance ratio\n",
    "explained_variance_ratio_cumsum = pca.explained_variance_ratio_.cumsum()\n",
    "n_components = len(explained_variance_ratio_cumsum[explained_variance_ratio_cumsum < 0.9999]) + 1\n",
    "n_components"
   ]
  },
  {
   "cell_type": "code",
   "execution_count": 30,
   "metadata": {},
   "outputs": [
    {
     "data": {
      "image/png": "[encoded data removed]",
      "text/plain": [
       "<Figure size 600x500 with 1 Axes>"
      ]
     },
     "metadata": {},
     "output_type": "display_data"
    },
    {
     "name": "stdout",
     "output_type": "stream",
     "text": [
      "time: 547 ms (started: 2024-05-07 19:54:13 +05:30)\n"
     ]
    }
   ],
   "source": [
    "# Determine explained variance using explained_variance_ration_ attribute\n",
    "exp_var_pca = pca.explained_variance_ratio_\n",
    "\n",
    "# Cumulative sum of eigenvalues; This will be used to create step plot\n",
    "# for visualizing the variance explained by each principal component.\n",
    "cum_sum_eigenvalues = np.cumsum(exp_var_pca)\n",
    "\n",
    "# Create the visualization plot\n",
    "plt.figure(figsize=(6,5))\n",
    "plt.bar(range(0, len(exp_var_pca)), exp_var_pca, alpha=0.5, align='center', label='Individual explained variance')\n",
    "plt.step(range(0, len(cum_sum_eigenvalues)), cum_sum_eigenvalues, where='mid',label='Cumulative explained variance')\n",
    "\n",
    "plt.xlabel('Principal component index')\n",
    "plt.ylabel('Explained variance ratio')\n",
    "plt.legend(loc='best')\n",
    "plt.tight_layout()\n",
    "plt.show()"
   ]
  },
  {
   "cell_type": "code",
   "execution_count": 31,
   "metadata": {},
   "outputs": [
    {
     "name": "stdout",
     "output_type": "stream",
     "text": [
      "time: 4.69 s (started: 2024-05-07 19:54:16 +05:30)\n"
     ]
    }
   ],
   "source": [
    "x_train = pca.transform(x_train)[:, :n_components]"
   ]
  },
  {
   "cell_type": "code",
   "execution_count": 32,
   "metadata": {},
   "outputs": [
    {
     "name": "stdout",
     "output_type": "stream",
     "text": [
      "time: 500 ms (started: 2024-05-07 19:54:22 +05:30)\n"
     ]
    }
   ],
   "source": [
    "x_train10 = pca.transform(x_train10)[:, :n_components]"
   ]
  },
  {
   "cell_type": "code",
   "execution_count": 33,
   "metadata": {},
   "outputs": [
    {
     "name": "stdout",
     "output_type": "stream",
     "text": [
      "time: 329 ms (started: 2024-05-07 19:54:24 +05:30)\n"
     ]
    }
   ],
   "source": [
    "x_test = pca.transform(x_test)[:, :n_components]"
   ]
  },
  {
   "cell_type": "markdown",
   "metadata": {},
   "source": [
    "**Finalized Dataset**"
   ]
  },
  {
   "cell_type": "code",
   "execution_count": 34,
   "metadata": {},
   "outputs": [
    {
     "data": {
      "text/plain": [
       "array([[-1.6060270e+03,  4.3982867e+04],\n",
       "       [-1.6715608e+03,  3.4348926e+03],\n",
       "       [-1.5985808e+03,  1.3487032e+02],\n",
       "       ...,\n",
       "       [-1.6158446e+03,  2.5168752e+03],\n",
       "       [-1.6155791e+03,  1.4087549e+02],\n",
       "       [-1.6156211e+03,  4.8755445e+00]], dtype=float32)"
      ]
     },
     "execution_count": 34,
     "metadata": {},
     "output_type": "execute_result"
    },
    {
     "name": "stdout",
     "output_type": "stream",
     "text": [
      "time: 0 ns (started: 2024-05-07 19:54:26 +05:30)\n"
     ]
    }
   ],
   "source": [
    "x_train"
   ]
  },
  {
   "cell_type": "code",
   "execution_count": 35,
   "metadata": {},
   "outputs": [
    {
     "data": {
      "text/plain": [
       "array([16, 16, 16, ..., 16, 16, 16], dtype=uint8)"
      ]
     },
     "execution_count": 35,
     "metadata": {},
     "output_type": "execute_result"
    },
    {
     "name": "stdout",
     "output_type": "stream",
     "text": [
      "time: 0 ns (started: 2024-05-07 19:54:27 +05:30)\n"
     ]
    }
   ],
   "source": [
    "y_train"
   ]
  },
  {
   "cell_type": "code",
   "execution_count": 36,
   "metadata": {},
   "outputs": [
    {
     "data": {
      "text/plain": [
       "array([[-1652.2758  ,  4356.8867  ],\n",
       "       [-1595.8102  ,  -607.1305  ],\n",
       "       [-1599.5471  ,   243.87059 ],\n",
       "       ...,\n",
       "       [-1631.5896  ,   106.88045 ],\n",
       "       [-1543.5896  ,   106.853264],\n",
       "       [-1615.5791  ,   140.87549 ]], dtype=float32)"
      ]
     },
     "execution_count": 36,
     "metadata": {},
     "output_type": "execute_result"
    },
    {
     "name": "stdout",
     "output_type": "stream",
     "text": [
      "time: 0 ns (started: 2024-05-07 19:54:29 +05:30)\n"
     ]
    }
   ],
   "source": [
    "x_train10"
   ]
  },
  {
   "cell_type": "code",
   "execution_count": 37,
   "metadata": {},
   "outputs": [
    {
     "data": {
      "text/plain": [
       "array([16, 16, 16, ..., 16, 16, 16], dtype=uint8)"
      ]
     },
     "execution_count": 37,
     "metadata": {},
     "output_type": "execute_result"
    },
    {
     "name": "stdout",
     "output_type": "stream",
     "text": [
      "time: 0 ns (started: 2024-05-07 19:54:31 +05:30)\n"
     ]
    }
   ],
   "source": [
    "y_train10"
   ]
  },
  {
   "cell_type": "code",
   "execution_count": 38,
   "metadata": {
    "scrolled": true
   },
   "outputs": [
    {
     "data": {
      "text/plain": [
       "array([[-1729.9153 ,  -947.08905],\n",
       "       [-1729.9153 ,  -947.08905],\n",
       "       [-1729.9153 ,  -947.08905],\n",
       "       ...,\n",
       "       [-1729.915  ,  -946.08905],\n",
       "       [-1729.915  ,  -946.08905],\n",
       "       [-1729.915  ,  -946.08905]], dtype=float32)"
      ]
     },
     "execution_count": 38,
     "metadata": {},
     "output_type": "execute_result"
    },
    {
     "name": "stdout",
     "output_type": "stream",
     "text": [
      "time: 0 ns (started: 2024-05-07 19:54:33 +05:30)\n"
     ]
    }
   ],
   "source": [
    "x_test"
   ]
  },
  {
   "cell_type": "code",
   "execution_count": 39,
   "metadata": {},
   "outputs": [
    {
     "data": {
      "text/plain": [
       "array([16, 16, 16, ..., 16, 16, 16], dtype=uint8)"
      ]
     },
     "execution_count": 39,
     "metadata": {},
     "output_type": "execute_result"
    },
    {
     "name": "stdout",
     "output_type": "stream",
     "text": [
      "time: 16 ms (started: 2024-05-07 19:54:34 +05:30)\n"
     ]
    }
   ],
   "source": [
    "y_test"
   ]
  },
  {
   "cell_type": "markdown",
   "metadata": {
    "id": "VsmeVPrIZak0"
   },
   "source": [
    "## 2. Clustering Using K-Means (Your implementation)\n",
    "\n",
    "We will use K-Means to cluster the network traffic data and identify anomalies. Every data traffic is a feature vector of 41 dimension. We will use this feature representation to do the clustering.\n",
    "\n",
    "• We will change the K of the K-means algorithm between {7, 15, 23, 31, 45} clusters. You will produce different clusters."
   ]
  },
  {
   "cell_type": "code",
   "execution_count": 40,
   "metadata": {},
   "outputs": [
    {
     "name": "stdout",
     "output_type": "stream",
     "text": [
      "time: 16 ms (started: 2024-05-07 19:54:36 +05:30)\n"
     ]
    }
   ],
   "source": [
    "def k_means_clustering(X, k, epsilon=1e-6, num_iters=100):\n",
    "    # Initialize k centroids using k-means++\n",
    "    centroids, _ = kmeans_plusplus(X, n_clusters=k)\n",
    "    \n",
    "    old_centroids = np.copy(centroids)\n",
    "    for t in range(num_iters):\n",
    "        clusters = [set() for i in range(k)]\n",
    "        \n",
    "        # Cluster Assignment Step\n",
    "        labels = np.argmin(np.linalg.norm(X[:, np.newaxis] - centroids, axis=2), axis=1)\n",
    "    \n",
    "        # Centroid Update Step\n",
    "        for i in range(k):\n",
    "            clusters[i] = np.where(labels==i)[0]\n",
    "            if len(clusters[i]) == 0:\n",
    "                centroids[i] = None\n",
    "            else:\n",
    "                centroids[i] = np.mean(X[clusters[i]], axis=0)\n",
    "\n",
    "        if np.linalg.norm(centroids - old_centroids) <= epsilon:\n",
    "            labels = np.argmin(np.linalg.norm(X[:, np.newaxis] - centroids, axis=2), axis=1)\n",
    "            return labels, centroids\n",
    "        else:\n",
    "            old_centroids = np.copy(centroids)\n",
    "    \n",
    "    labels = np.argmin(np.linalg.norm(X[:, np.newaxis] - centroids, axis=2), axis=1)\n",
    "    return labels, centroids"
   ]
  },
  {
   "cell_type": "code",
   "execution_count": 41,
   "metadata": {},
   "outputs": [
    {
     "name": "stdout",
     "output_type": "stream",
     "text": [
      "time: 0 ns (started: 2024-05-07 19:54:38 +05:30)\n"
     ]
    }
   ],
   "source": [
    "def k_means_test(x_test, centroids):\n",
    "    return np.argmin(np.linalg.norm(x_test[:, np.newaxis] - centroids, axis=2), axis=1)"
   ]
  },
  {
   "cell_type": "code",
   "execution_count": 42,
   "metadata": {},
   "outputs": [
    {
     "name": "stdout",
     "output_type": "stream",
     "text": [
      "@ k = 7\n",
      "@ k = 15\n",
      "@ k = 23\n",
      "@ k = 31\n",
      "@ k = 45\n",
      "time: 1min 27s (started: 2024-05-07 19:54:40 +05:30)\n"
     ]
    }
   ],
   "source": [
    "results = dict()\n",
    "for k in [7, 15, 23, 31, 45]:\n",
    "    print(f\"@ k = {k}\")\n",
    "    labels, centroids = k_means_clustering(x_train10, k)\n",
    "    \n",
    "    results[k] = dict()\n",
    "    results[k]['labels'] = labels\n",
    "    results[k]['centroids'] = centroids\n",
    "    results[k]['y_pred'] = k_means_test(x_test, centroids)"
   ]
  },
  {
   "cell_type": "code",
   "execution_count": 43,
   "metadata": {},
   "outputs": [
    {
     "data": {
      "text/plain": [
       "{7: {'labels': array([0, 0, 0, ..., 0, 0, 0], dtype=int64),\n",
       "  'centroids': array([[-9.3010504e+02, -5.3871613e+02],\n",
       "         [ 6.9337370e+08, -2.1531884e+05],\n",
       "         [ 5.1323920e+06, -2.6792153e+03],\n",
       "         [-1.7745477e+02,  5.0085965e+06],\n",
       "         [ 2.2017508e+06, -1.7738759e+03],\n",
       "         [-7.6520477e+02,  1.6952434e+06],\n",
       "         [-1.1516310e+03,  4.3499553e+05]], dtype=float32),\n",
       "  'y_pred': array([0, 0, 0, ..., 0, 0, 0], dtype=int64)},\n",
       " 15: {'labels': array([0, 0, 0, ..., 0, 0, 0], dtype=int64),\n",
       "  'centroids': array([[-1.1916377e+03, -9.2347595e+02],\n",
       "         [ 6.9337370e+08, -2.1531884e+05],\n",
       "         [ 5.1323920e+06, -2.6792153e+03],\n",
       "         [-2.4291745e+02,  5.1492875e+06],\n",
       "         [ 2.2017508e+06, -1.7738759e+03],\n",
       "         [-8.6595563e+02,  1.5140224e+06],\n",
       "         [-9.2059064e+02,  5.5393825e+05],\n",
       "         [ 5.3974176e+04,  6.6989497e+03],\n",
       "         [-3.9707529e+02,  2.4649648e+06],\n",
       "         [-1.5414681e+03,  4.0282867e+04],\n",
       "         [-1.2839625e+03,  2.3660256e+05],\n",
       "         [ 3.4624658e+02,  3.8830670e+06],\n",
       "         [ 5.2102084e+05,  2.5720398e+04],\n",
       "         [-1.0279142e+03,  9.7311144e+05],\n",
       "         [-1.5493126e+03,  1.0398702e+04]], dtype=float32),\n",
       "  'y_pred': array([0, 0, 0, ..., 0, 0, 0], dtype=int64)},\n",
       " 23: {'labels': array([13,  0,  0, ...,  0,  0,  0], dtype=int64),\n",
       "  'centroids': array([[-1.2170521e+03, -9.5406848e+02],\n",
       "         [ 6.9337370e+08, -2.1531884e+05],\n",
       "         [ 5.1323920e+06, -2.6792153e+03],\n",
       "         [-2.4291745e+02,  5.1492875e+06],\n",
       "         [ 2.2017508e+06, -1.7738759e+03],\n",
       "         [-9.2057446e+02,  1.4318620e+06],\n",
       "         [-8.8546967e+02,  4.5398494e+05],\n",
       "         [ 5.2814590e+04,  6.7988735e+03],\n",
       "         [-4.2722913e+02,  2.6605115e+06],\n",
       "         [-1.5791925e+03,  2.2500266e+04],\n",
       "         [-1.2721403e+03,  2.6374706e+05],\n",
       "         [ 3.4624658e+02,  3.8830670e+06],\n",
       "         [ 5.2102084e+05,  2.5720398e+04],\n",
       "         [-1.5675554e+03,  7.2979688e+03],\n",
       "         [-1.0337600e+03,  8.4844119e+05],\n",
       "         [-1.4565200e+03,  1.2439483e+05],\n",
       "         [-1.5446641e+03,  4.8858938e+04],\n",
       "         [ 1.8671492e+05, -1.0863109e+03],\n",
       "         [-1.0230427e+03,  1.0770031e+06],\n",
       "         [-3.8953687e+02,  2.4160780e+06],\n",
       "         [-7.0209906e+02,  1.7605035e+06],\n",
       "         [-9.8055981e+02,  6.3986625e+05],\n",
       "         [ 9.0327041e+03, -8.0032617e+02]], dtype=float32),\n",
       "  'y_pred': array([0, 0, 0, ..., 0, 0, 0], dtype=int64)},\n",
       " 31: {'labels': array([27, 22, 21, ..., 21, 21, 21], dtype=int64),\n",
       "  'centroids': array([[-8.7685352e+02, -1.0800024e+03],\n",
       "         [ 6.9337370e+08, -2.1531884e+05],\n",
       "         [ 5.1323920e+06, -2.6792153e+03],\n",
       "         [-2.4291745e+02,  5.1492875e+06],\n",
       "         [ 2.1888605e+06, -1.7698955e+03],\n",
       "         [-9.2057446e+02,  1.4318620e+06],\n",
       "         [-1.0265388e+03,  5.7263112e+05],\n",
       "         [-4.2722913e+02,  2.6605115e+06],\n",
       "         [ 5.2248008e+04,  6.9054873e+03],\n",
       "         [-1.3137056e+03,  2.5396252e+05],\n",
       "         [ 3.4624658e+02,  3.8830670e+06],\n",
       "         [-1.5243667e+03,  4.9011707e+04],\n",
       "         [ 4.9352784e+05, -1.2461044e+03],\n",
       "         [-1.5604683e+03,  1.7324918e+04],\n",
       "         [-1.0691613e+03,  1.0593664e+06],\n",
       "         [-1.4100406e+03,  1.5054769e+05],\n",
       "         [-1.5662223e+03,  1.0171286e+04],\n",
       "         [ 1.8671492e+05, -1.0863109e+03],\n",
       "         [-7.0209906e+02,  1.7605035e+06],\n",
       "         [-9.3713293e+02,  7.7014588e+05],\n",
       "         [-3.8953687e+02,  2.4160780e+06],\n",
       "         [-1.5540566e+03,  1.1006392e+03],\n",
       "         [-1.7857195e+03, -1.0070350e+03],\n",
       "         [-1.5390341e+03,  8.5821086e+04],\n",
       "         [ 9.2495586e+03, -7.8904620e+02],\n",
       "         [-8.9882330e+02,  3.8288178e+05],\n",
       "         [ 2.4982230e+06, -1.8654205e+03],\n",
       "         [-1.5663176e+03,  4.9720405e+03],\n",
       "         [ 7.1347169e+05,  2.1448592e+05],\n",
       "         [ 8.9629617e+04, -1.2817276e+02],\n",
       "         [-1.5833986e+03,  2.9132377e+04]], dtype=float32),\n",
       "  'y_pred': array([22, 22, 22, ..., 22, 22, 22], dtype=int64)},\n",
       " 45: {'labels': array([19, 42, 38, ..., 38, 38, 38], dtype=int64),\n",
       "  'centroids': array([[-7.78828125e+02, -1.08036023e+03],\n",
       "         [ 6.93373696e+08, -2.15318844e+05],\n",
       "         [ 5.13239200e+06, -2.67921533e+03],\n",
       "         [-2.42917450e+02,  5.14928750e+06],\n",
       "         [ 2.18886050e+06, -1.76989551e+03],\n",
       "         [-9.75676147e+02,  1.36826925e+06],\n",
       "         [-9.86882446e+02,  5.18155906e+05],\n",
       "         [ 5.27175312e+04,  7.09569824e+03],\n",
       "         [-4.27229126e+02,  2.66051150e+06],\n",
       "         [-1.45369250e+03,  6.36389766e+04],\n",
       "         [ 3.46246582e+02,  3.88306700e+06],\n",
       "         [ 4.93527844e+05, -1.24610437e+03],\n",
       "         [-1.56376685e+03,  1.03271328e+04],\n",
       "         [-1.40982385e+03,  2.70421906e+05],\n",
       "         [-1.34587195e+03,  9.53545688e+05],\n",
       "         [-7.07781372e+02,  1.69790800e+06],\n",
       "         [ 1.72085953e+05, -1.14679126e+03],\n",
       "         [-1.59027295e+03,  3.12223359e+04],\n",
       "         [-3.89536865e+02,  2.41607800e+06],\n",
       "         [-1.56333850e+03,  2.99089355e+03],\n",
       "         [-1.82060254e+03, -1.08005188e+03],\n",
       "         [-1.50743713e+03,  1.06259031e+05],\n",
       "         [-9.69867004e+02,  7.17396375e+05],\n",
       "         [ 7.13471688e+05,  2.14485922e+05],\n",
       "         [-1.08218909e+03,  2.16399594e+05],\n",
       "         [ 2.49822300e+06, -1.86542053e+03],\n",
       "         [-1.02101843e+03,  3.48603406e+05],\n",
       "         [-9.75750427e+02,  1.13725888e+06],\n",
       "         [ 8.53126758e+03, -8.08774963e+02],\n",
       "         [-1.58146533e+03,  4.26183242e+04],\n",
       "         [-1.46105005e+03,  1.54959344e+05],\n",
       "         [ 8.96296172e+04, -1.28172760e+02],\n",
       "         [-1.57060364e+03,  2.31742324e+04],\n",
       "         [-8.51697388e+02,  1.51135250e+06],\n",
       "         [ 3.13681133e+04, -7.27285690e+01],\n",
       "         [-6.95164612e+02,  4.40012469e+05],\n",
       "         [-1.56845715e+03,  6.29577881e+03],\n",
       "         [-8.93487732e+02,  8.40478688e+05],\n",
       "         [-1.55443225e+03,  6.85748047e+02],\n",
       "         [-1.07280444e+03,  6.36185688e+05],\n",
       "         [ 2.48888125e+05, -8.29270203e+02],\n",
       "         [-6.90734314e+02,  1.88569438e+06],\n",
       "         [-1.37670972e+03, -9.59310303e+02],\n",
       "         [-1.56441003e+03,  1.55553232e+04],\n",
       "         [-1.07033496e+03,  1.01674731e+06]], dtype=float32),\n",
       "  'y_pred': array([20, 20, 20, ..., 20, 20, 20], dtype=int64)}}"
      ]
     },
     "execution_count": 43,
     "metadata": {},
     "output_type": "execute_result"
    },
    {
     "name": "stdout",
     "output_type": "stream",
     "text": [
      "time: 15 ms (started: 2024-05-07 19:56:13 +05:30)\n"
     ]
    }
   ],
   "source": [
    "results"
   ]
  },
  {
   "cell_type": "markdown",
   "metadata": {
    "id": "DCSL3XJ4ZvNQ"
   },
   "source": [
    "## 3. Normalized Cut (Your implementation)\n",
    "\n",
    "Here, we will use Normalized cut algorithm to cluster the network traffic data and identify anomalies. For this experiments we need to decrease the size of the dataset for it to run successfully.\n",
    "\n",
    "• Set the random seed across all experiments to 42.\n",
    "\n",
    "• Split the training dataset used using train test split in sklearn, and take\n",
    "only 0.5% of the data in the new training set. Be sure you set stratify = True.\n",
    "\n",
    "• Apply Normalized Cut algorithm to the preprocessed data to cluster the data into 23 clusters.\n",
    "\n",
    "• Rerun the experiments on K-Means when K = 23.\n",
    "\n",
    "• Compare the results of K-Means and Normalized Cut clustering in terms of the number of detected anomalies and their characteristics."
   ]
  },
  {
   "cell_type": "code",
   "execution_count": 44,
   "metadata": {
    "id": "Yv-wcwp1Z6zC"
   },
   "outputs": [
    {
     "name": "stdout",
     "output_type": "stream",
     "text": [
      "time: 0 ns (started: 2024-05-07 19:56:16 +05:30)\n"
     ]
    }
   ],
   "source": [
    "def normalised_cut(X, k_clusters, sim_measure='rbf'):\n",
    "    # Find Similarity Matrix A using specified similarity measure\n",
    "    if sim_measure == 'rbf':\n",
    "        g_optimal = 1 / np.mean(pdist(X))\n",
    "        A = rbf_kernel(X, gamma=g_optimal)\n",
    "    elif sim_measure == 'knn':\n",
    "        k_optimal = int(np.round(np.sqrt(X.shape[0])))\n",
    "        knn = NearestNeighbors(n_neighbors=151).fit(X)\n",
    "        A = knn.kneighbors_graph(X).toarray()\n",
    "    \n",
    "    # Find Degree Matrix Δ\n",
    "    delta = np.diag(A.sum(axis=1))\n",
    "    \n",
    "    # Calculate the Laplacian Matrix L\n",
    "    L = delta - A\n",
    "    \n",
    "    # Calculate the normalized asymmetric Matrix B\n",
    "    B = np.dot(np.linalg.inv(delta), L)\n",
    "    \n",
    "    # Extract eigenvalues and eigenvectors of B\n",
    "    lambdas, U = np.linalg.eig(B)\n",
    "    indices = lambdas.argsort()\n",
    "    lambdas = np.real(lambdas[indices])\n",
    "    U = np.real(U[:, indices])\n",
    "    \n",
    "    # Run K-Means on smallest k eigenvectors\n",
    "    kmeans = KMeans(n_clusters=k_clusters, n_init=100)\n",
    "    kmeans.fit(U[:, 1:k_clusters+1])\n",
    "    \n",
    "    return kmeans.labels_"
   ]
  },
  {
   "cell_type": "code",
   "execution_count": 45,
   "metadata": {},
   "outputs": [
    {
     "name": "stdout",
     "output_type": "stream",
     "text": [
      "time: 2.91 s (started: 2024-05-07 19:56:17 +05:30)\n"
     ]
    }
   ],
   "source": [
    "x_train2, _, y_train2, _ = train_test_split(x_train, y_train, train_size=0.0025, random_state=42, stratify=y_train)"
   ]
  },
  {
   "cell_type": "code",
   "execution_count": 46,
   "metadata": {},
   "outputs": [
    {
     "data": {
      "text/plain": [
       "(12246, 2)"
      ]
     },
     "execution_count": 46,
     "metadata": {},
     "output_type": "execute_result"
    },
    {
     "name": "stdout",
     "output_type": "stream",
     "text": [
      "time: 0 ns (started: 2024-05-07 19:56:21 +05:30)\n"
     ]
    }
   ],
   "source": [
    "x_train2.shape"
   ]
  },
  {
   "cell_type": "code",
   "execution_count": 47,
   "metadata": {},
   "outputs": [
    {
     "data": {
      "text/plain": [
       "(12246,)"
      ]
     },
     "execution_count": 47,
     "metadata": {},
     "output_type": "execute_result"
    },
    {
     "name": "stdout",
     "output_type": "stream",
     "text": [
      "time: 0 ns (started: 2024-05-07 19:56:23 +05:30)\n"
     ]
    }
   ],
   "source": [
    "y_train2.shape"
   ]
  },
  {
   "cell_type": "code",
   "execution_count": 48,
   "metadata": {},
   "outputs": [
    {
     "data": {
      "text/plain": [
       "array([0, 0, 0, ..., 0, 0, 0])"
      ]
     },
     "execution_count": 48,
     "metadata": {},
     "output_type": "execute_result"
    },
    {
     "name": "stdout",
     "output_type": "stream",
     "text": [
      "time: 16min 7s (started: 2024-05-07 19:56:24 +05:30)\n"
     ]
    }
   ],
   "source": [
    "nc_labels = normalised_cut(x_train2, 23)\n",
    "nc_labels"
   ]
  },
  {
   "cell_type": "code",
   "execution_count": 49,
   "metadata": {},
   "outputs": [
    {
     "data": {
      "text/plain": [
       "array([ 0,  0, 16, ..., 15, 11,  0])"
      ]
     },
     "execution_count": 49,
     "metadata": {},
     "output_type": "execute_result"
    },
    {
     "name": "stdout",
     "output_type": "stream",
     "text": [
      "time: 9min 15s (started: 2024-05-07 20:12:42 +05:30)\n"
     ]
    }
   ],
   "source": [
    "nc_labels_knn = normalised_cut(x_train2, 23, sim_measure='knn')\n",
    "nc_labels_knn"
   ]
  },
  {
   "cell_type": "markdown",
   "metadata": {},
   "source": [
    "**K-Means Clustering vs. Normalized Cut**"
   ]
  },
  {
   "cell_type": "code",
   "execution_count": 50,
   "metadata": {},
   "outputs": [
    {
     "data": {
      "text/plain": [
       "array([[     0, 475926],\n",
       "       [     1,      1],\n",
       "       [     2,     59],\n",
       "       [     3,     16],\n",
       "       [     4,     24],\n",
       "       [     5,      9],\n",
       "       [     6,     13],\n",
       "       [     7,   2309],\n",
       "       [     8,      1],\n",
       "       [     9,   2476],\n",
       "       [    10,     49],\n",
       "       [    11,      2],\n",
       "       [    12,      8],\n",
       "       [    13,  11153],\n",
       "       [    14,      5],\n",
       "       [    15,     71],\n",
       "       [    16,    540],\n",
       "       [    17,     21],\n",
       "       [    18,      6],\n",
       "       [    19,      4],\n",
       "       [    20,      3],\n",
       "       [    21,     11],\n",
       "       [    22,   1314]], dtype=int64)"
      ]
     },
     "execution_count": 50,
     "metadata": {},
     "output_type": "execute_result"
    },
    {
     "name": "stdout",
     "output_type": "stream",
     "text": [
      "time: 31 ms (started: 2024-05-07 20:22:05 +05:30)\n"
     ]
    }
   ],
   "source": [
    "np_value_counts(results[23]['labels'])"
   ]
  },
  {
   "cell_type": "code",
   "execution_count": 51,
   "metadata": {},
   "outputs": [
    {
     "data": {
      "text/plain": [
       "array([[    0, 12193],\n",
       "       [    1,     2],\n",
       "       [    2,     5],\n",
       "       [    3,     2],\n",
       "       [    4,     3],\n",
       "       [    5,     2],\n",
       "       [    6,     1],\n",
       "       [    7,     1],\n",
       "       [    8,     2],\n",
       "       [    9,     5],\n",
       "       [   10,     3],\n",
       "       [   11,     2],\n",
       "       [   12,     2],\n",
       "       [   13,     2],\n",
       "       [   14,     4],\n",
       "       [   15,     3],\n",
       "       [   16,     2],\n",
       "       [   17,     4],\n",
       "       [   18,     1],\n",
       "       [   19,     3],\n",
       "       [   20,     1],\n",
       "       [   21,     1],\n",
       "       [   22,     2]], dtype=int64)"
      ]
     },
     "execution_count": 51,
     "metadata": {},
     "output_type": "execute_result"
    },
    {
     "name": "stdout",
     "output_type": "stream",
     "text": [
      "time: 15 ms (started: 2024-05-07 20:22:07 +05:30)\n"
     ]
    }
   ],
   "source": [
    "np_value_counts(nc_labels)"
   ]
  },
  {
   "cell_type": "code",
   "execution_count": 52,
   "metadata": {},
   "outputs": [
    {
     "data": {
      "text/plain": [
       "array([[   0, 5727],\n",
       "       [   1,   41],\n",
       "       [   2,  354],\n",
       "       [   3,  825],\n",
       "       [   4, 1052],\n",
       "       [   5,   94],\n",
       "       [   6,  452],\n",
       "       [   7,  557],\n",
       "       [   8,   43],\n",
       "       [   9,  147],\n",
       "       [  10,  108],\n",
       "       [  11,  683],\n",
       "       [  12,   48],\n",
       "       [  13,  139],\n",
       "       [  14,  420],\n",
       "       [  15,  474],\n",
       "       [  16,  318],\n",
       "       [  17,   63],\n",
       "       [  18,   42],\n",
       "       [  19,  100],\n",
       "       [  20,  241],\n",
       "       [  21,   84],\n",
       "       [  22,  234]], dtype=int64)"
      ]
     },
     "execution_count": 52,
     "metadata": {},
     "output_type": "execute_result"
    },
    {
     "name": "stdout",
     "output_type": "stream",
     "text": [
      "time: 0 ns (started: 2024-05-07 20:22:09 +05:30)\n"
     ]
    }
   ],
   "source": [
    "np_value_counts(nc_labels_knn)"
   ]
  },
  {
   "cell_type": "markdown",
   "metadata": {
    "id": "bEJ98v9YZ8p6"
   },
   "source": [
    "## 3. Evaluation\n",
    "\n",
    "We will evaluate models based on their ability to detect network anomalies accurately. You will be required to use the following metrics to evaluate the quality of their models:\n",
    "\n",
    "• Precision (is the ratio of correctly predicted positive observations to the total predicted positives. It measures the accuracy of the positive predictions.)\n",
    "\n",
    "• Recall (also known as sensitivity or true positive rate, is the ratio of correctly predicted positive observations to all actual positives. It measures the model's ability to find all positive instances. )\n",
    "\n",
    "• F1 score ( is the harmonic mean of precision and recall. It provides a balance between precision and recall.)\n",
    "\n",
    "• Conditional Entropy"
   ]
  },
  {
   "cell_type": "markdown",
   "metadata": {},
   "source": [
    "**Running K-Means on `x_train2` for evaluation purposes**"
   ]
  },
  {
   "cell_type": "code",
   "execution_count": 53,
   "metadata": {},
   "outputs": [
    {
     "name": "stdout",
     "output_type": "stream",
     "text": [
      "@ k = 7\n",
      "@ k = 15\n",
      "@ k = 23\n",
      "@ k = 31\n",
      "@ k = 45\n",
      "time: 2.45 s (started: 2024-05-07 20:22:13 +05:30)\n"
     ]
    }
   ],
   "source": [
    "km_results = dict()\n",
    "for k in [7, 15, 23, 31, 45]:\n",
    "    print(f\"@ k = {k}\")\n",
    "    labels, centroids = k_means_clustering(x_train2, k)\n",
    "    \n",
    "    km_results[k] = dict()\n",
    "    km_results[k]['labels'] = labels\n",
    "    km_results[k]['centroids'] = centroids\n",
    "    km_results[k]['y_pred'] = k_means_test(x_test, centroids)"
   ]
  },
  {
   "cell_type": "markdown",
   "metadata": {
    "id": "317-bSN_Z_8_"
   },
   "source": [
    "### Precision"
   ]
  },
  {
   "cell_type": "code",
   "execution_count": 54,
   "metadata": {},
   "outputs": [
    {
     "name": "stdout",
     "output_type": "stream",
     "text": [
      "time: 0 ns (started: 2024-05-07 20:22:16 +05:30)\n"
     ]
    }
   ],
   "source": [
    "def precision_per_cluster(y_true, y_pred):\n",
    "    cont_mat = contingency_matrix(y_true, y_pred).T\n",
    "    return np.max(cont_mat, axis=1) / np.sum(cont_mat, axis=1)"
   ]
  },
  {
   "cell_type": "code",
   "execution_count": 55,
   "metadata": {},
   "outputs": [
    {
     "name": "stdout",
     "output_type": "stream",
     "text": [
      "time: 0 ns (started: 2024-05-07 20:22:18 +05:30)\n"
     ]
    }
   ],
   "source": [
    "def overall_precision(y_true, y_pred):\n",
    "    cont_mat = contingency_matrix(y_true, y_pred).T\n",
    "    p_per_c = precision_per_cluster(y_true, y_pred)\n",
    "    return np.sum(np.multiply(np.sum(cont_mat, axis=1) / np.sum(cont_mat), p_per_c))"
   ]
  },
  {
   "cell_type": "markdown",
   "metadata": {},
   "source": [
    "**K-Means Clustering**"
   ]
  },
  {
   "cell_type": "code",
   "execution_count": 56,
   "metadata": {},
   "outputs": [
    {
     "name": "stdout",
     "output_type": "stream",
     "text": [
      "@ k = 7:\t0.573983341499265\n",
      "@ k = 15:\t0.8463171647885023\n",
      "@ k = 23:\t0.8696717295443408\n",
      "@ k = 31:\t0.8940062061081169\n",
      "@ k = 45:\t0.95124938755512\n"
     ]
    },
    {
     "data": {
      "image/png": "[encoded data removed]",
      "text/plain": [
       "<Figure size 800x600 with 1 Axes>"
      ]
     },
     "metadata": {},
     "output_type": "display_data"
    },
    {
     "name": "stdout",
     "output_type": "stream",
     "text": [
      "time: 312 ms (started: 2024-05-07 20:22:20 +05:30)\n"
     ]
    }
   ],
   "source": [
    "showing_result = []\n",
    "for k in [7, 15, 23, 31, 45]:\n",
    "    score = overall_precision(y_train2, km_results[k]['labels'])\n",
    "    showing_result.append(score*100)\n",
    "    print(f\"@ k = {k}:\\t{score}\")\n",
    "plt.figure(figsize=(8, 6))\n",
    "plt.plot([7, 15, 23, 31, 45], showing_result, marker='o', color='blue', linestyle='-')\n",
    "plt.title('Precision Scores for Different Values of k')\n",
    "plt.xlabel('k')\n",
    "plt.ylabel('Precision')\n",
    "plt.grid(True)\n",
    "plt.show()"
   ]
  },
  {
   "cell_type": "markdown",
   "metadata": {},
   "source": [
    "**Normalised Cut**"
   ]
  },
  {
   "cell_type": "code",
   "execution_count": 57,
   "metadata": {},
   "outputs": [
    {
     "data": {
      "text/plain": [
       "0.5775763514617018"
      ]
     },
     "execution_count": 57,
     "metadata": {},
     "output_type": "execute_result"
    },
    {
     "name": "stdout",
     "output_type": "stream",
     "text": [
      "time: 16 ms (started: 2024-05-07 20:23:55 +05:30)\n"
     ]
    }
   ],
   "source": [
    "overall_precision(y_train2, nc_labels)"
   ]
  },
  {
   "cell_type": "code",
   "execution_count": 58,
   "metadata": {},
   "outputs": [
    {
     "data": {
      "text/plain": [
       "0.9694594153192879"
      ]
     },
     "execution_count": 58,
     "metadata": {},
     "output_type": "execute_result"
    },
    {
     "name": "stdout",
     "output_type": "stream",
     "text": [
      "time: 0 ns (started: 2024-05-07 20:23:56 +05:30)\n"
     ]
    }
   ],
   "source": [
    "overall_precision(y_train2, nc_labels_knn)"
   ]
  },
  {
   "cell_type": "markdown",
   "metadata": {},
   "source": [
    "### Recall"
   ]
  },
  {
   "cell_type": "code",
   "execution_count": 59,
   "metadata": {},
   "outputs": [
    {
     "name": "stdout",
     "output_type": "stream",
     "text": [
      "time: 0 ns (started: 2024-05-07 20:23:58 +05:30)\n"
     ]
    }
   ],
   "source": [
    "def recall_per_cluster(y_true, y_pred):\n",
    "    cont_mat = contingency_matrix(y_true, y_pred).T\n",
    "    partition_fraction = np.sum(cont_mat[:, np.argmax(cont_mat, axis=1)], axis=0)\n",
    "    return np.max(cont_mat, axis=1) / partition_fraction"
   ]
  },
  {
   "cell_type": "code",
   "execution_count": 60,
   "metadata": {},
   "outputs": [
    {
     "name": "stdout",
     "output_type": "stream",
     "text": [
      "time: 0 ns (started: 2024-05-07 20:23:59 +05:30)\n"
     ]
    }
   ],
   "source": [
    "def overall_recall(y_true, y_pred):\n",
    "    cont_mat = contingency_matrix(y_true, y_pred).T\n",
    "    r_per_c = recall_per_cluster(y_true, y_pred)\n",
    "#     partition_fraction = np.sum(cont_mat[:, np.argmax(cont_mat, axis=1)], axis=0)\n",
    "#     return np.sum(np.multiply(partition_fraction / np.sum(cont_mat), r_per_c))\n",
    "    return np.sum(np.multiply(np.sum(cont_mat, axis=1) / np.sum(cont_mat), r_per_c))"
   ]
  },
  {
   "cell_type": "markdown",
   "metadata": {},
   "source": [
    "**K-Means Clustering**"
   ]
  },
  {
   "cell_type": "code",
   "execution_count": 61,
   "metadata": {},
   "outputs": [
    {
     "name": "stdout",
     "output_type": "stream",
     "text": [
      "@ k = 7:\t0.9992929574569284\n",
      "@ k = 15:\t0.9540314676686409\n",
      "@ k = 23:\t0.7182057383617964\n",
      "@ k = 31:\t0.7198149995400923\n",
      "@ k = 45:\t0.6762792170944176\n",
      "time: 15 ms (started: 2024-05-07 20:24:00 +05:30)\n"
     ]
    }
   ],
   "source": [
    "for k in [7, 15, 23, 31, 45]:\n",
    "    print(f\"@ k = {k}:\\t{overall_recall(y_train2, km_results[k]['labels'])}\")"
   ]
  },
  {
   "cell_type": "markdown",
   "metadata": {},
   "source": [
    "**Normalised Cut**"
   ]
  },
  {
   "cell_type": "code",
   "execution_count": 62,
   "metadata": {},
   "outputs": [
    {
     "data": {
      "text/plain": [
       "0.995677394928097"
      ]
     },
     "execution_count": 62,
     "metadata": {},
     "output_type": "execute_result"
    },
    {
     "name": "stdout",
     "output_type": "stream",
     "text": [
      "time: 16 ms (started: 2024-05-07 20:24:02 +05:30)\n"
     ]
    }
   ],
   "source": [
    "overall_recall(y_train2, nc_labels)"
   ]
  },
  {
   "cell_type": "code",
   "execution_count": 63,
   "metadata": {},
   "outputs": [
    {
     "data": {
      "text/plain": [
       "0.4750754384025169"
      ]
     },
     "execution_count": 63,
     "metadata": {},
     "output_type": "execute_result"
    },
    {
     "name": "stdout",
     "output_type": "stream",
     "text": [
      "time: 16 ms (started: 2024-05-07 20:24:03 +05:30)\n"
     ]
    }
   ],
   "source": [
    "overall_recall(y_train2, nc_labels_knn)"
   ]
  },
  {
   "cell_type": "markdown",
   "metadata": {},
   "source": [
    "### F1 Score"
   ]
  },
  {
   "cell_type": "code",
   "execution_count": 64,
   "metadata": {},
   "outputs": [
    {
     "name": "stdout",
     "output_type": "stream",
     "text": [
      "time: 0 ns (started: 2024-05-07 20:24:04 +05:30)\n"
     ]
    }
   ],
   "source": [
    "def overall_f1_score(y_true, y_pred):\n",
    "    p_per_c = precision_per_cluster(y_true, y_pred)\n",
    "    r_per_c = recall_per_cluster(y_true, y_pred)\n",
    "    return np.mean(2 * np.multiply(p_per_c, r_per_c) / (p_per_c + r_per_c))"
   ]
  },
  {
   "cell_type": "markdown",
   "metadata": {},
   "source": [
    "**K-Means Clustering**"
   ]
  },
  {
   "cell_type": "code",
   "execution_count": 65,
   "metadata": {},
   "outputs": [
    {
     "name": "stdout",
     "output_type": "stream",
     "text": [
      "@ k = 7:\t0.17652253160725692\n",
      "@ k = 15:\t0.2422744171902131\n",
      "@ k = 23:\t0.18395351078148428\n",
      "@ k = 31:\t0.14434578092596234\n",
      "@ k = 45:\t0.11331087987285077\n",
      "time: 15 ms (started: 2024-05-07 20:24:05 +05:30)\n"
     ]
    }
   ],
   "source": [
    "for k in [7, 15, 23, 31, 45]:\n",
    "    print(f\"@ k = {k}:\\t{overall_f1_score(y_train2, km_results[k]['labels'])}\")"
   ]
  },
  {
   "cell_type": "markdown",
   "metadata": {},
   "source": [
    "**Normalised Cut**"
   ]
  },
  {
   "cell_type": "code",
   "execution_count": 66,
   "metadata": {},
   "outputs": [
    {
     "data": {
      "text/plain": [
       "0.033664654662967496"
      ]
     },
     "execution_count": 66,
     "metadata": {},
     "output_type": "execute_result"
    },
    {
     "name": "stdout",
     "output_type": "stream",
     "text": [
      "time: 15 ms (started: 2024-05-07 20:24:06 +05:30)\n"
     ]
    }
   ],
   "source": [
    "overall_f1_score(y_train2, nc_labels)"
   ]
  },
  {
   "cell_type": "code",
   "execution_count": 67,
   "metadata": {},
   "outputs": [
    {
     "data": {
      "text/plain": [
       "0.19094894774810112"
      ]
     },
     "execution_count": 67,
     "metadata": {},
     "output_type": "execute_result"
    },
    {
     "name": "stdout",
     "output_type": "stream",
     "text": [
      "time: 0 ns (started: 2024-05-07 20:24:08 +05:30)\n"
     ]
    }
   ],
   "source": [
    "overall_f1_score(y_train2, nc_labels_knn)"
   ]
  },
  {
   "cell_type": "markdown",
   "metadata": {},
   "source": [
    "### Conditional Entropy"
   ]
  },
  {
   "cell_type": "code",
   "execution_count": 68,
   "metadata": {},
   "outputs": [
    {
     "name": "stdout",
     "output_type": "stream",
     "text": [
      "time: 0 ns (started: 2024-05-07 20:24:10 +05:30)\n"
     ]
    }
   ],
   "source": [
    "def entropy(x):\n",
    "    with np.errstate(all='ignore'):\n",
    "        return np.nan_to_num(-x * np.log(x))"
   ]
  },
  {
   "cell_type": "code",
   "execution_count": 69,
   "metadata": {},
   "outputs": [
    {
     "name": "stdout",
     "output_type": "stream",
     "text": [
      "time: 0 ns (started: 2024-05-07 20:24:12 +05:30)\n"
     ]
    }
   ],
   "source": [
    "def conditional_entropy(y_true, y_pred):\n",
    "    cont_mat = contingency_matrix(y_true, y_pred).T\n",
    "    n = np.sum(cont_mat)\n",
    "    p_ci = np.sum(cont_mat, axis=1) / n\n",
    "    p_ij = cont_mat / np.sum(cont_mat, axis=1)[:, np.newaxis]\n",
    "    H_T_Ci = np.sum(entropy(p_ij), axis=1)\n",
    "    return np.sum(np.multiply(p_ci, H_T_Ci))"
   ]
  },
  {
   "cell_type": "markdown",
   "metadata": {},
   "source": [
    "**K-Means Clustering**"
   ]
  },
  {
   "cell_type": "code",
   "execution_count": 70,
   "metadata": {},
   "outputs": [
    {
     "name": "stdout",
     "output_type": "stream",
     "text": [
      "@ k = 7:\t1.029\t(worst = 1.946)\n",
      "@ k = 15:\t0.375\t(worst = 2.708)\n",
      "@ k = 23:\t0.362\t(worst = 3.135)\n",
      "@ k = 31:\t0.317\t(worst = 3.434)\n",
      "@ k = 45:\t0.198\t(worst = 3.807)\n",
      "time: 16 ms (started: 2024-05-07 20:24:13 +05:30)\n"
     ]
    }
   ],
   "source": [
    "for k in [7, 15, 23, 31, 45]:\n",
    "    print(f\"@ k = {k}:\\t{conditional_entropy(y_train2, km_results[k]['labels']):.3f}\\t(worst = {np.log(k):.3f})\")"
   ]
  },
  {
   "cell_type": "markdown",
   "metadata": {},
   "source": [
    "**Normalised Cut**"
   ]
  },
  {
   "cell_type": "code",
   "execution_count": 71,
   "metadata": {},
   "outputs": [
    {
     "name": "stdout",
     "output_type": "stream",
     "text": [
      "1.024\t(worst = 3.807)\n",
      "time: 0 ns (started: 2024-05-07 20:24:15 +05:30)\n"
     ]
    }
   ],
   "source": [
    "print(f\"{conditional_entropy(y_train2, nc_labels):.3f}\\t(worst = {np.log(k):.3f})\")"
   ]
  },
  {
   "cell_type": "code",
   "execution_count": 72,
   "metadata": {
    "scrolled": true
   },
   "outputs": [
    {
     "name": "stdout",
     "output_type": "stream",
     "text": [
      "0.101\t(worst = 3.807)\n",
      "time: 0 ns (started: 2024-05-07 20:24:16 +05:30)\n"
     ]
    }
   ],
   "source": [
    "print(f\"{conditional_entropy(y_train2, nc_labels_knn):.3f}\\t(worst = {np.log(k):.3f})\")"
   ]
  },
  {
   "cell_type": "markdown",
   "metadata": {
    "id": "-_SCpBsOaIS_"
   },
   "source": [
    "## 4. DBSCAN"
   ]
  },
  {
   "cell_type": "markdown",
   "metadata": {},
   "source": [
    "### DBSCAN (Density-based spatial clustering of applications with noise)"
   ]
  },
  {
   "cell_type": "code",
   "execution_count": 73,
   "metadata": {},
   "outputs": [
    {
     "name": "stdout",
     "output_type": "stream",
     "text": [
      "time: 0 ns (started: 2024-05-07 20:24:19 +05:30)\n"
     ]
    }
   ],
   "source": [
    "def dbscan(X, epsilon, min_pts):\n",
    "    # Calculate pairwise distances between all samples\n",
    "    dists = cdist(X, X)\n",
    "\n",
    "    # Initialize labels and cluster ID\n",
    "    labels = np.full(X.shape[0], -1)\n",
    "    cluster_id = 0\n",
    "\n",
    "    # Loop over all samples\n",
    "    for i in range(X.shape[0]):\n",
    "        if labels[i] != -1:\n",
    "            # Sample already assigned to a cluster\n",
    "            continue\n",
    "\n",
    "        # Find all samples within epsilon distance from current sample\n",
    "        neighbors = np.where(dists[i] <= epsilon)[0]\n",
    "\n",
    "        if len(neighbors) < min_pts:\n",
    "            # Sample is noise\n",
    "            labels[i] = 0\n",
    "            continue\n",
    "\n",
    "        # Expand the cluster starting from the current sample\n",
    "        cluster_id += 1\n",
    "        labels[i] = cluster_id\n",
    "\n",
    "        # Loop over all neighbors\n",
    "        for j in neighbors:\n",
    "            if labels[j] == -1:\n",
    "                # Neighbor not yet assigned to a cluster\n",
    "                labels[j] = cluster_id\n",
    "\n",
    "                # Find all samples within epsilon distance from this neighbor\n",
    "                new_neighbors = np.where(dists[j] <= epsilon)[0]\n",
    "\n",
    "                if len(new_neighbors) >= min_pts:\n",
    "                    # Neighbor is a core point, expand the cluster from this point\n",
    "                    neighbors = np.concatenate([neighbors, new_neighbors])\n",
    "\n",
    "            elif labels[j] == 0:\n",
    "                # Neighbor previously identified as noise, add to current cluster\n",
    "                labels[j] = cluster_id\n",
    "\n",
    "    return labels"
   ]
  },
  {
   "cell_type": "code",
   "execution_count": 74,
   "metadata": {},
   "outputs": [],
   "source": [
    "dbscan_labels = dbscan(x_train2, 1, 40)\n",
    "dbscan_labels"
   ]
  },
  {
   "cell_type": "code",
   "execution_count": null,
   "metadata": {},
   "outputs": [
    {
     "data": {
      "text/plain": [
       "9"
      ]
     },
     "execution_count": 74,
     "metadata": {},
     "output_type": "execute_result"
    },
    {
     "name": "stdout",
     "output_type": "stream",
     "text": [
      "time: 0 ns (started: 2023-09-12 00:19:05 +03:00)\n"
     ]
    }
   ],
   "source": [
    "num_clusters = len(np.unique(dbscan_labels))\n",
    "num_clusters"
   ]
  },
  {
   "cell_type": "markdown",
   "metadata": {},
   "source": [
    "**Precision**"
   ]
  },
  {
   "cell_type": "code",
   "execution_count": null,
   "metadata": {},
   "outputs": [
    {
     "data": {
      "text/plain": [
       "0.9774620284174423"
      ]
     },
     "execution_count": 75,
     "metadata": {},
     "output_type": "execute_result"
    },
    {
     "name": "stdout",
     "output_type": "stream",
     "text": [
      "time: 0 ns (started: 2023-09-12 00:19:05 +03:00)\n"
     ]
    }
   ],
   "source": [
    "overall_precision(y_train2, dbscan_labels)"
   ]
  },
  {
   "cell_type": "markdown",
   "metadata": {},
   "source": [
    "**Recall**"
   ]
  },
  {
   "cell_type": "code",
   "execution_count": null,
   "metadata": {},
   "outputs": [
    {
     "data": {
      "text/plain": [
       "0.7758737135611674"
      ]
     },
     "execution_count": 76,
     "metadata": {},
     "output_type": "execute_result"
    },
    {
     "name": "stdout",
     "output_type": "stream",
     "text": [
      "time: 0 ns (started: 2023-09-12 00:19:05 +03:00)\n"
     ]
    }
   ],
   "source": [
    "overall_recall(y_train2, dbscan_labels)"
   ]
  },
  {
   "cell_type": "markdown",
   "metadata": {},
   "source": [
    "**F1 Score**"
   ]
  },
  {
   "cell_type": "code",
   "execution_count": null,
   "metadata": {},
   "outputs": [
    {
     "data": {
      "text/plain": [
       "0.36410697273731746"
      ]
     },
     "execution_count": 77,
     "metadata": {},
     "output_type": "execute_result"
    },
    {
     "name": "stdout",
     "output_type": "stream",
     "text": [
      "time: 0 ns (started: 2023-09-12 00:19:05 +03:00)\n"
     ]
    }
   ],
   "source": [
    "overall_f1_score(y_train2, dbscan_labels)"
   ]
  },
  {
   "cell_type": "markdown",
   "metadata": {},
   "source": [
    "**Conditional Entropy**"
   ]
  },
  {
   "cell_type": "code",
   "execution_count": null,
   "metadata": {},
   "outputs": [
    {
     "name": "stdout",
     "output_type": "stream",
     "text": [
      "0.107\t(worst = 2.197)\n",
      "time: 0 ns (started: 2023-09-12 00:19:05 +03:00)\n"
     ]
    }
   ],
   "source": [
    "print(f\"{conditional_entropy(y_train2, dbscan_labels):.3f}\\t(worst = {np.log(len(np.unique(dbscan_labels))):.3f})\")"
   ]
  },
  {
   "cell_type": "markdown",
   "metadata": {},
   "source": [
    "## Displaying Plots"
   ]
  },
  {
   "cell_type": "code",
   "execution_count": null,
   "metadata": {},
   "outputs": [
    {
     "name": "stdout",
     "output_type": "stream",
     "text": [
      "time: 0 ns (started: 2023-09-12 00:31:30 +03:00)\n"
     ]
    }
   ],
   "source": [
    "def display_plot(X, labels, plot_style, title=''):\n",
    "    fig = plt.figure(figsize=(6,6))\n",
    "    if plot_style == '2d':\n",
    "        ax = fig.add_subplot(111)\n",
    "        ax.scatter(X[:,0], X[:,1], c=labels, lw=0)\n",
    "    elif plot_style == '3d':\n",
    "        ax = fig.add_subplot(111, projection='3d')\n",
    "        ax.scatter(X[:,0], X[:,1], labels, c=labels, lw=0)\n",
    "        ax.set_zlabel('k-th cluster')        \n",
    "    \n",
    "    plt.title(title)\n",
    "    ax.set_xlabel('X_1')\n",
    "    ax.set_ylabel('X_2')"
   ]
  },
  {
   "cell_type": "markdown",
   "metadata": {},
   "source": [
    "### K-Means"
   ]
  },
  {
   "cell_type": "code",
   "execution_count": null,
   "metadata": {},
   "outputs": [
    {
     "data": {
      "image/png": "[encoded data removed]",
      "text/plain": [
       "<Figure size 600x600 with 1 Axes>"
      ]
     },
     "metadata": {},
     "output_type": "display_data"
    },
    {
     "data": {
      "image/png": "[encoded data removed]",
      "text/plain": [
       "<Figure size 600x600 with 1 Axes>"
      ]
     },
     "metadata": {},
     "output_type": "display_data"
    },
    {
     "data": {
      "image/png": "[encoded data removed]",
      "text/plain": [
       "<Figure size 600x600 with 1 Axes>"
      ]
     },
     "metadata": {},
     "output_type": "display_data"
    },
    {
     "data": {
      "image/png": "[encoded data removed]",
      "text/plain": [
       "<Figure size 600x600 with 1 Axes>"
      ]
     },
     "metadata": {},
     "output_type": "display_data"
    },
    {
     "data": {
      "image/png": "[encoded data removed]",
      "text/plain": [
       "<Figure size 600x600 with 1 Axes>"
      ]
     },
     "metadata": {},
     "output_type": "display_data"
    },
    {
     "name": "stdout",
     "output_type": "stream",
     "text": [
      "time: 1.39 s (started: 2023-09-12 00:31:38 +03:00)\n"
     ]
    }
   ],
   "source": [
    "for k in [7, 15, 23, 31, 45]:\n",
    "    display_plot(x_train2, km_results[k]['labels'], '2d', title=f\"K-Means, {k} clusters\")"
   ]
  },
  {
   "cell_type": "markdown",
   "metadata": {},
   "source": [
    "### Spectral Clustering"
   ]
  },
  {
   "cell_type": "code",
   "execution_count": null,
   "metadata": {},
   "outputs": [
    {
     "data": {
      "image/png": "[encoded data removed]",
      "text/plain": [
       "<Figure size 600x600 with 1 Axes>"
      ]
     },
     "metadata": {},
     "output_type": "display_data"
    },
    {
     "name": "stdout",
     "output_type": "stream",
     "text": [
      "time: 312 ms (started: 2023-09-12 00:31:39 +03:00)\n"
     ]
    }
   ],
   "source": [
    "display_plot(x_train2, nc_labels, '2d', title=\"Spectral Clustering - RBF Kernel\")"
   ]
  },
  {
   "cell_type": "code",
   "execution_count": null,
   "metadata": {},
   "outputs": [
    {
     "data": {
      "image/png": "[encoded data removed]",
      "text/plain": [
       "<Figure size 600x600 with 1 Axes>"
      ]
     },
     "metadata": {},
     "output_type": "display_data"
    },
    {
     "name": "stdout",
     "output_type": "stream",
     "text": [
      "time: 281 ms (started: 2023-09-12 00:31:40 +03:00)\n"
     ]
    }
   ],
   "source": [
    "display_plot(x_train2, nc_labels_knn, '2d', title=\"Spectral Clustering - KNN Kernel\")"
   ]
  },
  {
   "cell_type": "markdown",
   "metadata": {},
   "source": [
    "### DBSCAN"
   ]
  },
  {
   "cell_type": "code",
   "execution_count": null,
   "metadata": {},
   "outputs": [
    {
     "data": {
      "image/png": "[encoded data removed]",
      "text/plain": [
       "<Figure size 600x600 with 1 Axes>"
      ]
     },
     "metadata": {},
     "output_type": "display_data"
    },
    {
     "name": "stdout",
     "output_type": "stream",
     "text": [
      "time: 282 ms (started: 2023-09-12 00:31:42 +03:00)\n"
     ]
    }
   ],
   "source": [
    "display_plot(x_train2, dbscan_labels, '2d', title=f\"DBSCAN\")"
   ]
  }
 ],
 "metadata": {
  "colab": {
   "provenance": [],
   "toc_visible": true
  },
  "kernelspec": {
   "display_name": "Python 3 (ipykernel)",
   "language": "python",
   "name": "python3"
  },
  "language_info": {
   "codemirror_mode": {
    "name": "ipython",
    "version": 3
   },
   "file_extension": ".py",
   "mimetype": "text/x-python",
   "name": "python",
   "nbconvert_exporter": "python",
   "pygments_lexer": "ipython3",
   "version": "3.12.2"
  }
 },
 "nbformat": 4,
 "nbformat_minor": 4
}
